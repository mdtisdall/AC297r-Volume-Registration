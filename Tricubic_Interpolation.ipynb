{
 "cells": [
  {
   "cell_type": "code",
   "execution_count": 5,
   "metadata": {
    "collapsed": false
   },
   "outputs": [],
   "source": [
    "%matplotlib inline\n",
    "import matplotlib.pyplot as plt\n",
    "import os\n",
    "import time\n",
    "import ghalton\n",
    "import numpy as np"
   ]
  },
  {
   "cell_type": "code",
   "execution_count": 3,
   "metadata": {
    "collapsed": false
   },
   "outputs": [],
   "source": [
    "'''\n",
    "Helper function that cleans up list_directory\n",
    "removes hidden files\n",
    "'''\n",
    "def clean(lis):\n",
    "    try:\n",
    "        \n",
    "        lis.remove('.DS_Store')\n",
    "    except:\n",
    "        lis = lis\n",
    "    return lis\n",
    "\n",
    "'''\n",
    "Helper function that retrieves all data files\n",
    "cleans up the directory to leave only .dat files\n",
    "'''\n",
    "def get_files(lis):\n",
    "    try:\n",
    "        for i in list(lis):\n",
    "            if('.dat' not in i):\n",
    "                lis.remove(i)\n",
    "    except:\n",
    "        lis = lis\n",
    "    return lis"
   ]
  },
  {
   "cell_type": "code",
   "execution_count": 4,
   "metadata": {
    "collapsed": false
   },
   "outputs": [
    {
     "name": "stdout",
     "output_type": "stream",
     "text": [
      "['Pos_1_Vol_1.dat', 'Pos_1_Vol_2.dat', 'Pos_1_Vol_3.dat', 'Pos_1_Vol_4.dat', 'Pos_1_Vol_5.dat', 'Pos_2_Vol_1.dat', 'Pos_2_Vol_2.dat', 'Pos_2_Vol_3.dat', 'Pos_2_Vol_4.dat', 'Pos_2_Vol_5.dat']\n"
     ]
    }
   ],
   "source": [
    "path = '/Users/zyzdiana/Dropbox/Spring2015/AC297r/Pineapple_images/'\n",
    "files = get_files(os.listdir(path))\n",
    "print files"
   ]
  },
  {
   "cell_type": "markdown",
   "metadata": {},
   "source": [
    "#Tricubic Interpolation#"
   ]
  },
  {
   "cell_type": "markdown",
   "metadata": {},
   "source": [
    "try looping through so save memory."
   ]
  },
  {
   "cell_type": "markdown",
   "metadata": {},
   "source": [
    "$$f(x,y,z)=\\sum_{i=0}^3 \\sum_{j=0}^3 \\sum_{k=0}^3 a_{ijk} x^i y^j z^k$$"
   ]
  },
  {
   "cell_type": "code",
   "execution_count": 8,
   "metadata": {
    "collapsed": false
   },
   "outputs": [],
   "source": [
    "X_inv =np.array([\n",
    "( 1, 0, 0, 0, 0, 0, 0, 0, 0, 0, 0, 0, 0, 0, 0, 0, 0, 0, 0, 0, 0, 0, 0, 0, 0, 0, 0, 0, 0, 0, 0, 0, 0, 0, 0, 0, 0, 0, 0, 0, 0, 0, 0, 0, 0, 0, 0, 0, 0, 0, 0, 0, 0, 0, 0, 0, 0, 0, 0, 0, 0, 0, 0, 0),\n",
    "( 0, 0, 0, 0, 0, 0, 0, 0, 1, 0, 0, 0, 0, 0, 0, 0, 0, 0, 0, 0, 0, 0, 0, 0, 0, 0, 0, 0, 0, 0, 0, 0, 0, 0, 0, 0, 0, 0, 0, 0, 0, 0, 0, 0, 0, 0, 0, 0, 0, 0, 0, 0, 0, 0, 0, 0, 0, 0, 0, 0, 0, 0, 0, 0),\n",
    "(-3, 3, 0, 0, 0, 0, 0, 0,-2,-1, 0, 0, 0, 0, 0, 0, 0, 0, 0, 0, 0, 0, 0, 0, 0, 0, 0, 0, 0, 0, 0, 0, 0, 0, 0, 0, 0, 0, 0, 0, 0, 0, 0, 0, 0, 0, 0, 0, 0, 0, 0, 0, 0, 0, 0, 0, 0, 0, 0, 0, 0, 0, 0, 0),\n",
    "( 2,-2, 0, 0, 0, 0, 0, 0, 1, 1, 0, 0, 0, 0, 0, 0, 0, 0, 0, 0, 0, 0, 0, 0, 0, 0, 0, 0, 0, 0, 0, 0, 0, 0, 0, 0, 0, 0, 0, 0, 0, 0, 0, 0, 0, 0, 0, 0, 0, 0, 0, 0, 0, 0, 0, 0, 0, 0, 0, 0, 0, 0, 0, 0),\n",
    "( 0, 0, 0, 0, 0, 0, 0, 0, 0, 0, 0, 0, 0, 0, 0, 0, 1, 0, 0, 0, 0, 0, 0, 0, 0, 0, 0, 0, 0, 0, 0, 0, 0, 0, 0, 0, 0, 0, 0, 0, 0, 0, 0, 0, 0, 0, 0, 0, 0, 0, 0, 0, 0, 0, 0, 0, 0, 0, 0, 0, 0, 0, 0, 0),\n",
    "( 0, 0, 0, 0, 0, 0, 0, 0, 0, 0, 0, 0, 0, 0, 0, 0, 0, 0, 0, 0, 0, 0, 0, 0, 0, 0, 0, 0, 0, 0, 0, 0, 1, 0, 0, 0, 0, 0, 0, 0, 0, 0, 0, 0, 0, 0, 0, 0, 0, 0, 0, 0, 0, 0, 0, 0, 0, 0, 0, 0, 0, 0, 0, 0),\n",
    "( 0, 0, 0, 0, 0, 0, 0, 0, 0, 0, 0, 0, 0, 0, 0, 0,-3, 3, 0, 0, 0, 0, 0, 0, 0, 0, 0, 0, 0, 0, 0, 0,-2,-1, 0, 0, 0, 0, 0, 0, 0, 0, 0, 0, 0, 0, 0, 0, 0, 0, 0, 0, 0, 0, 0, 0, 0, 0, 0, 0, 0, 0, 0, 0),\n",
    "( 0, 0, 0, 0, 0, 0, 0, 0, 0, 0, 0, 0, 0, 0, 0, 0, 2,-2, 0, 0, 0, 0, 0, 0, 0, 0, 0, 0, 0, 0, 0, 0, 1, 1, 0, 0, 0, 0, 0, 0, 0, 0, 0, 0, 0, 0, 0, 0, 0, 0, 0, 0, 0, 0, 0, 0, 0, 0, 0, 0, 0, 0, 0, 0),\n",
    "(-3, 0, 3, 0, 0, 0, 0, 0, 0, 0, 0, 0, 0, 0, 0, 0,-2, 0,-1, 0, 0, 0, 0, 0, 0, 0, 0, 0, 0, 0, 0, 0, 0, 0, 0, 0, 0, 0, 0, 0, 0, 0, 0, 0, 0, 0, 0, 0, 0, 0, 0, 0, 0, 0, 0, 0, 0, 0, 0, 0, 0, 0, 0, 0),\n",
    "( 0, 0, 0, 0, 0, 0, 0, 0,-3, 0, 3, 0, 0, 0, 0, 0, 0, 0, 0, 0, 0, 0, 0, 0, 0, 0, 0, 0, 0, 0, 0, 0,-2, 0,-1, 0, 0, 0, 0, 0, 0, 0, 0, 0, 0, 0, 0, 0, 0, 0, 0, 0, 0, 0, 0, 0, 0, 0, 0, 0, 0, 0, 0, 0),\n",
    "( 9,-9,-9, 9, 0, 0, 0, 0, 6, 3,-6,-3, 0, 0, 0, 0, 6,-6, 3,-3, 0, 0, 0, 0, 0, 0, 0, 0, 0, 0, 0, 0, 4, 2, 2, 1, 0, 0, 0, 0, 0, 0, 0, 0, 0, 0, 0, 0, 0, 0, 0, 0, 0, 0, 0, 0, 0, 0, 0, 0, 0, 0, 0, 0),\n",
    "(-6, 6, 6,-6, 0, 0, 0, 0,-3,-3, 3, 3, 0, 0, 0, 0,-4, 4,-2, 2, 0, 0, 0, 0, 0, 0, 0, 0, 0, 0, 0, 0,-2,-2,-1,-1, 0, 0, 0, 0, 0, 0, 0, 0, 0, 0, 0, 0, 0, 0, 0, 0, 0, 0, 0, 0, 0, 0, 0, 0, 0, 0, 0, 0),\n",
    "( 2, 0,-2, 0, 0, 0, 0, 0, 0, 0, 0, 0, 0, 0, 0, 0, 1, 0, 1, 0, 0, 0, 0, 0, 0, 0, 0, 0, 0, 0, 0, 0, 0, 0, 0, 0, 0, 0, 0, 0, 0, 0, 0, 0, 0, 0, 0, 0, 0, 0, 0, 0, 0, 0, 0, 0, 0, 0, 0, 0, 0, 0, 0, 0),\n",
    "( 0, 0, 0, 0, 0, 0, 0, 0, 2, 0,-2, 0, 0, 0, 0, 0, 0, 0, 0, 0, 0, 0, 0, 0, 0, 0, 0, 0, 0, 0, 0, 0, 1, 0, 1, 0, 0, 0, 0, 0, 0, 0, 0, 0, 0, 0, 0, 0, 0, 0, 0, 0, 0, 0, 0, 0, 0, 0, 0, 0, 0, 0, 0, 0),\n",
    "(-6, 6, 6,-6, 0, 0, 0, 0,-4,-2, 4, 2, 0, 0, 0, 0,-3, 3,-3, 3, 0, 0, 0, 0, 0, 0, 0, 0, 0, 0, 0, 0,-2,-1,-2,-1, 0, 0, 0, 0, 0, 0, 0, 0, 0, 0, 0, 0, 0, 0, 0, 0, 0, 0, 0, 0, 0, 0, 0, 0, 0, 0, 0, 0),\n",
    "( 4,-4,-4, 4, 0, 0, 0, 0, 2, 2,-2,-2, 0, 0, 0, 0, 2,-2, 2,-2, 0, 0, 0, 0, 0, 0, 0, 0, 0, 0, 0, 0, 1, 1, 1, 1, 0, 0, 0, 0, 0, 0, 0, 0, 0, 0, 0, 0, 0, 0, 0, 0, 0, 0, 0, 0, 0, 0, 0, 0, 0, 0, 0, 0),\n",
    "( 0, 0, 0, 0, 0, 0, 0, 0, 0, 0, 0, 0, 0, 0, 0, 0, 0, 0, 0, 0, 0, 0, 0, 0, 1, 0, 0, 0, 0, 0, 0, 0, 0, 0, 0, 0, 0, 0, 0, 0, 0, 0, 0, 0, 0, 0, 0, 0, 0, 0, 0, 0, 0, 0, 0, 0, 0, 0, 0, 0, 0, 0, 0, 0),\n",
    "( 0, 0, 0, 0, 0, 0, 0, 0, 0, 0, 0, 0, 0, 0, 0, 0, 0, 0, 0, 0, 0, 0, 0, 0, 0, 0, 0, 0, 0, 0, 0, 0, 0, 0, 0, 0, 0, 0, 0, 0, 1, 0, 0, 0, 0, 0, 0, 0, 0, 0, 0, 0, 0, 0, 0, 0, 0, 0, 0, 0, 0, 0, 0, 0),\n",
    "( 0, 0, 0, 0, 0, 0, 0, 0, 0, 0, 0, 0, 0, 0, 0, 0, 0, 0, 0, 0, 0, 0, 0, 0,-3, 3, 0, 0, 0, 0, 0, 0, 0, 0, 0, 0, 0, 0, 0, 0,-2,-1, 0, 0, 0, 0, 0, 0, 0, 0, 0, 0, 0, 0, 0, 0, 0, 0, 0, 0, 0, 0, 0, 0),\n",
    "( 0, 0, 0, 0, 0, 0, 0, 0, 0, 0, 0, 0, 0, 0, 0, 0, 0, 0, 0, 0, 0, 0, 0, 0, 2,-2, 0, 0, 0, 0, 0, 0, 0, 0, 0, 0, 0, 0, 0, 0, 1, 1, 0, 0, 0, 0, 0, 0, 0, 0, 0, 0, 0, 0, 0, 0, 0, 0, 0, 0, 0, 0, 0, 0),\n",
    "( 0, 0, 0, 0, 0, 0, 0, 0, 0, 0, 0, 0, 0, 0, 0, 0, 0, 0, 0, 0, 0, 0, 0, 0, 0, 0, 0, 0, 0, 0, 0, 0, 0, 0, 0, 0, 0, 0, 0, 0, 0, 0, 0, 0, 0, 0, 0, 0, 1, 0, 0, 0, 0, 0, 0, 0, 0, 0, 0, 0, 0, 0, 0, 0),\n",
    "( 0, 0, 0, 0, 0, 0, 0, 0, 0, 0, 0, 0, 0, 0, 0, 0, 0, 0, 0, 0, 0, 0, 0, 0, 0, 0, 0, 0, 0, 0, 0, 0, 0, 0, 0, 0, 0, 0, 0, 0, 0, 0, 0, 0, 0, 0, 0, 0, 0, 0, 0, 0, 0, 0, 0, 0, 1, 0, 0, 0, 0, 0, 0, 0),\n",
    "( 0, 0, 0, 0, 0, 0, 0, 0, 0, 0, 0, 0, 0, 0, 0, 0, 0, 0, 0, 0, 0, 0, 0, 0, 0, 0, 0, 0, 0, 0, 0, 0, 0, 0, 0, 0, 0, 0, 0, 0, 0, 0, 0, 0, 0, 0, 0, 0,-3, 3, 0, 0, 0, 0, 0, 0,-2,-1, 0, 0, 0, 0, 0, 0),\n",
    "( 0, 0, 0, 0, 0, 0, 0, 0, 0, 0, 0, 0, 0, 0, 0, 0, 0, 0, 0, 0, 0, 0, 0, 0, 0, 0, 0, 0, 0, 0, 0, 0, 0, 0, 0, 0, 0, 0, 0, 0, 0, 0, 0, 0, 0, 0, 0, 0, 2,-2, 0, 0, 0, 0, 0, 0, 1, 1, 0, 0, 0, 0, 0, 0),\n",
    "( 0, 0, 0, 0, 0, 0, 0, 0, 0, 0, 0, 0, 0, 0, 0, 0, 0, 0, 0, 0, 0, 0, 0, 0,-3, 0, 3, 0, 0, 0, 0, 0, 0, 0, 0, 0, 0, 0, 0, 0, 0, 0, 0, 0, 0, 0, 0, 0,-2, 0,-1, 0, 0, 0, 0, 0, 0, 0, 0, 0, 0, 0, 0, 0),\n",
    "( 0, 0, 0, 0, 0, 0, 0, 0, 0, 0, 0, 0, 0, 0, 0, 0, 0, 0, 0, 0, 0, 0, 0, 0, 0, 0, 0, 0, 0, 0, 0, 0, 0, 0, 0, 0, 0, 0, 0, 0,-3, 0, 3, 0, 0, 0, 0, 0, 0, 0, 0, 0, 0, 0, 0, 0,-2, 0,-1, 0, 0, 0, 0, 0),\n",
    "( 0, 0, 0, 0, 0, 0, 0, 0, 0, 0, 0, 0, 0, 0, 0, 0, 0, 0, 0, 0, 0, 0, 0, 0, 9,-9,-9, 9, 0, 0, 0, 0, 0, 0, 0, 0, 0, 0, 0, 0, 6, 3,-6,-3, 0, 0, 0, 0, 6,-6, 3,-3, 0, 0, 0, 0, 4, 2, 2, 1, 0, 0, 0, 0),\n",
    "( 0, 0, 0, 0, 0, 0, 0, 0, 0, 0, 0, 0, 0, 0, 0, 0, 0, 0, 0, 0, 0, 0, 0, 0,-6, 6, 6,-6, 0, 0, 0, 0, 0, 0, 0, 0, 0, 0, 0, 0,-3,-3, 3, 3, 0, 0, 0, 0,-4, 4,-2, 2, 0, 0, 0, 0,-2,-2,-1,-1, 0, 0, 0, 0),\n",
    "( 0, 0, 0, 0, 0, 0, 0, 0, 0, 0, 0, 0, 0, 0, 0, 0, 0, 0, 0, 0, 0, 0, 0, 0, 2, 0,-2, 0, 0, 0, 0, 0, 0, 0, 0, 0, 0, 0, 0, 0, 0, 0, 0, 0, 0, 0, 0, 0, 1, 0, 1, 0, 0, 0, 0, 0, 0, 0, 0, 0, 0, 0, 0, 0),\n",
    "( 0, 0, 0, 0, 0, 0, 0, 0, 0, 0, 0, 0, 0, 0, 0, 0, 0, 0, 0, 0, 0, 0, 0, 0, 0, 0, 0, 0, 0, 0, 0, 0, 0, 0, 0, 0, 0, 0, 0, 0, 2, 0,-2, 0, 0, 0, 0, 0, 0, 0, 0, 0, 0, 0, 0, 0, 1, 0, 1, 0, 0, 0, 0, 0),\n",
    "( 0, 0, 0, 0, 0, 0, 0, 0, 0, 0, 0, 0, 0, 0, 0, 0, 0, 0, 0, 0, 0, 0, 0, 0,-6, 6, 6,-6, 0, 0, 0, 0, 0, 0, 0, 0, 0, 0, 0, 0,-4,-2, 4, 2, 0, 0, 0, 0,-3, 3,-3, 3, 0, 0, 0, 0,-2,-1,-2,-1, 0, 0, 0, 0),\n",
    "( 0, 0, 0, 0, 0, 0, 0, 0, 0, 0, 0, 0, 0, 0, 0, 0, 0, 0, 0, 0, 0, 0, 0, 0, 4,-4,-4, 4, 0, 0, 0, 0, 0, 0, 0, 0, 0, 0, 0, 0, 2, 2,-2,-2, 0, 0, 0, 0, 2,-2, 2,-2, 0, 0, 0, 0, 1, 1, 1, 1, 0, 0, 0, 0),\n",
    "(-3, 0, 0, 0, 3, 0, 0, 0, 0, 0, 0, 0, 0, 0, 0, 0, 0, 0, 0, 0, 0, 0, 0, 0,-2, 0, 0, 0,-1, 0, 0, 0, 0, 0, 0, 0, 0, 0, 0, 0, 0, 0, 0, 0, 0, 0, 0, 0, 0, 0, 0, 0, 0, 0, 0, 0, 0, 0, 0, 0, 0, 0, 0, 0),\n",
    "( 0, 0, 0, 0, 0, 0, 0, 0,-3, 0, 0, 0, 3, 0, 0, 0, 0, 0, 0, 0, 0, 0, 0, 0, 0, 0, 0, 0, 0, 0, 0, 0, 0, 0, 0, 0, 0, 0, 0, 0,-2, 0, 0, 0,-1, 0, 0, 0, 0, 0, 0, 0, 0, 0, 0, 0, 0, 0, 0, 0, 0, 0, 0, 0),\n",
    "( 9,-9, 0, 0,-9, 9, 0, 0, 6, 3, 0, 0,-6,-3, 0, 0, 0, 0, 0, 0, 0, 0, 0, 0, 6,-6, 0, 0, 3,-3, 0, 0, 0, 0, 0, 0, 0, 0, 0, 0, 4, 2, 0, 0, 2, 1, 0, 0, 0, 0, 0, 0, 0, 0, 0, 0, 0, 0, 0, 0, 0, 0, 0, 0),\n",
    "(-6, 6, 0, 0, 6,-6, 0, 0,-3,-3, 0, 0, 3, 3, 0, 0, 0, 0, 0, 0, 0, 0, 0, 0,-4, 4, 0, 0,-2, 2, 0, 0, 0, 0, 0, 0, 0, 0, 0, 0,-2,-2, 0, 0,-1,-1, 0, 0, 0, 0, 0, 0, 0, 0, 0, 0, 0, 0, 0, 0, 0, 0, 0, 0),\n",
    "( 0, 0, 0, 0, 0, 0, 0, 0, 0, 0, 0, 0, 0, 0, 0, 0,-3, 0, 0, 0, 3, 0, 0, 0, 0, 0, 0, 0, 0, 0, 0, 0, 0, 0, 0, 0, 0, 0, 0, 0, 0, 0, 0, 0, 0, 0, 0, 0,-2, 0, 0, 0,-1, 0, 0, 0, 0, 0, 0, 0, 0, 0, 0, 0),\n",
    "( 0, 0, 0, 0, 0, 0, 0, 0, 0, 0, 0, 0, 0, 0, 0, 0, 0, 0, 0, 0, 0, 0, 0, 0, 0, 0, 0, 0, 0, 0, 0, 0,-3, 0, 0, 0, 3, 0, 0, 0, 0, 0, 0, 0, 0, 0, 0, 0, 0, 0, 0, 0, 0, 0, 0, 0,-2, 0, 0, 0,-1, 0, 0, 0),\n",
    "( 0, 0, 0, 0, 0, 0, 0, 0, 0, 0, 0, 0, 0, 0, 0, 0, 9,-9, 0, 0,-9, 9, 0, 0, 0, 0, 0, 0, 0, 0, 0, 0, 6, 3, 0, 0,-6,-3, 0, 0, 0, 0, 0, 0, 0, 0, 0, 0, 6,-6, 0, 0, 3,-3, 0, 0, 4, 2, 0, 0, 2, 1, 0, 0),\n",
    "( 0, 0, 0, 0, 0, 0, 0, 0, 0, 0, 0, 0, 0, 0, 0, 0,-6, 6, 0, 0, 6,-6, 0, 0, 0, 0, 0, 0, 0, 0, 0, 0,-3,-3, 0, 0, 3, 3, 0, 0, 0, 0, 0, 0, 0, 0, 0, 0,-4, 4, 0, 0,-2, 2, 0, 0,-2,-2, 0, 0,-1,-1, 0, 0),\n",
    "( 9, 0,-9, 0,-9, 0, 9, 0, 0, 0, 0, 0, 0, 0, 0, 0, 6, 0, 3, 0,-6, 0,-3, 0, 6, 0,-6, 0, 3, 0,-3, 0, 0, 0, 0, 0, 0, 0, 0, 0, 0, 0, 0, 0, 0, 0, 0, 0, 4, 0, 2, 0, 2, 0, 1, 0, 0, 0, 0, 0, 0, 0, 0, 0),\n",
    "( 0, 0, 0, 0, 0, 0, 0, 0, 9, 0,-9, 0,-9, 0, 9, 0, 0, 0, 0, 0, 0, 0, 0, 0, 0, 0, 0, 0, 0, 0, 0, 0, 6, 0, 3, 0,-6, 0,-3, 0, 6, 0,-6, 0, 3, 0,-3, 0, 0, 0, 0, 0, 0, 0, 0, 0, 4, 0, 2, 0, 2, 0, 1, 0),\n",
    "(-27,27,27,-27,27,-27,-27,27,-18,-9,18, 9,18, 9,-18,-9,-18,18,-9, 9,18,-18, 9,-9,-18,18,18,-18,-9, 9, 9,-9,-12,-6,-6,-3,12, 6, 6, 3,-12,-6,12, 6,-6,-3, 6, 3,-12,12,-6, 6,-6, 6,-3, 3,-8,-4,-4,-2,-4,-2,-2,-1),\n",
    "(18,-18,-18,18,-18,18,18,-18, 9, 9,-9,-9,-9,-9, 9, 9,12,-12, 6,-6,-12,12,-6, 6,12,-12,-12,12, 6,-6,-6, 6, 6, 6, 3, 3,-6,-6,-3,-3, 6, 6,-6,-6, 3, 3,-3,-3, 8,-8, 4,-4, 4,-4, 2,-2, 4, 4, 2, 2, 2, 2, 1, 1),\n",
    "(-6, 0, 6, 0, 6, 0,-6, 0, 0, 0, 0, 0, 0, 0, 0, 0,-3, 0,-3, 0, 3, 0, 3, 0,-4, 0, 4, 0,-2, 0, 2, 0, 0, 0, 0, 0, 0, 0, 0, 0, 0, 0, 0, 0, 0, 0, 0, 0,-2, 0,-2, 0,-1, 0,-1, 0, 0, 0, 0, 0, 0, 0, 0, 0),\n",
    "( 0, 0, 0, 0, 0, 0, 0, 0,-6, 0, 6, 0, 6, 0,-6, 0, 0, 0, 0, 0, 0, 0, 0, 0, 0, 0, 0, 0, 0, 0, 0, 0,-3, 0,-3, 0, 3, 0, 3, 0,-4, 0, 4, 0,-2, 0, 2, 0, 0, 0, 0, 0, 0, 0, 0, 0,-2, 0,-2, 0,-1, 0,-1, 0),\n",
    "(18,-18,-18,18,-18,18,18,-18,12, 6,-12,-6,-12,-6,12, 6, 9,-9, 9,-9,-9, 9,-9, 9,12,-12,-12,12, 6,-6,-6, 6, 6, 3, 6, 3,-6,-3,-6,-3, 8, 4,-8,-4, 4, 2,-4,-2, 6,-6, 6,-6, 3,-3, 3,-3, 4, 2, 4, 2, 2, 1, 2, 1),\n",
    "(-12,12,12,-12,12,-12,-12,12,-6,-6, 6, 6, 6, 6,-6,-6,-6, 6,-6, 6, 6,-6, 6,-6,-8, 8, 8,-8,-4, 4, 4,-4,-3,-3,-3,-3, 3, 3, 3, 3,-4,-4, 4, 4,-2,-2, 2, 2,-4, 4,-4, 4,-2, 2,-2, 2,-2,-2,-2,-2,-1,-1,-1,-1),\n",
    "( 2, 0, 0, 0,-2, 0, 0, 0, 0, 0, 0, 0, 0, 0, 0, 0, 0, 0, 0, 0, 0, 0, 0, 0, 1, 0, 0, 0, 1, 0, 0, 0, 0, 0, 0, 0, 0, 0, 0, 0, 0, 0, 0, 0, 0, 0, 0, 0, 0, 0, 0, 0, 0, 0, 0, 0, 0, 0, 0, 0, 0, 0, 0, 0),\n",
    "( 0, 0, 0, 0, 0, 0, 0, 0, 2, 0, 0, 0,-2, 0, 0, 0, 0, 0, 0, 0, 0, 0, 0, 0, 0, 0, 0, 0, 0, 0, 0, 0, 0, 0, 0, 0, 0, 0, 0, 0, 1, 0, 0, 0, 1, 0, 0, 0, 0, 0, 0, 0, 0, 0, 0, 0, 0, 0, 0, 0, 0, 0, 0, 0),\n",
    "(-6, 6, 0, 0, 6,-6, 0, 0,-4,-2, 0, 0, 4, 2, 0, 0, 0, 0, 0, 0, 0, 0, 0, 0,-3, 3, 0, 0,-3, 3, 0, 0, 0, 0, 0, 0, 0, 0, 0, 0,-2,-1, 0, 0,-2,-1, 0, 0, 0, 0, 0, 0, 0, 0, 0, 0, 0, 0, 0, 0, 0, 0, 0, 0),\n",
    "( 4,-4, 0, 0,-4, 4, 0, 0, 2, 2, 0, 0,-2,-2, 0, 0, 0, 0, 0, 0, 0, 0, 0, 0, 2,-2, 0, 0, 2,-2, 0, 0, 0, 0, 0, 0, 0, 0, 0, 0, 1, 1, 0, 0, 1, 1, 0, 0, 0, 0, 0, 0, 0, 0, 0, 0, 0, 0, 0, 0, 0, 0, 0, 0),\n",
    "( 0, 0, 0, 0, 0, 0, 0, 0, 0, 0, 0, 0, 0, 0, 0, 0, 2, 0, 0, 0,-2, 0, 0, 0, 0, 0, 0, 0, 0, 0, 0, 0, 0, 0, 0, 0, 0, 0, 0, 0, 0, 0, 0, 0, 0, 0, 0, 0, 1, 0, 0, 0, 1, 0, 0, 0, 0, 0, 0, 0, 0, 0, 0, 0),\n",
    "( 0, 0, 0, 0, 0, 0, 0, 0, 0, 0, 0, 0, 0, 0, 0, 0, 0, 0, 0, 0, 0, 0, 0, 0, 0, 0, 0, 0, 0, 0, 0, 0, 2, 0, 0, 0,-2, 0, 0, 0, 0, 0, 0, 0, 0, 0, 0, 0, 0, 0, 0, 0, 0, 0, 0, 0, 1, 0, 0, 0, 1, 0, 0, 0),\n",
    "( 0, 0, 0, 0, 0, 0, 0, 0, 0, 0, 0, 0, 0, 0, 0, 0,-6, 6, 0, 0, 6,-6, 0, 0, 0, 0, 0, 0, 0, 0, 0, 0,-4,-2, 0, 0, 4, 2, 0, 0, 0, 0, 0, 0, 0, 0, 0, 0,-3, 3, 0, 0,-3, 3, 0, 0,-2,-1, 0, 0,-2,-1, 0, 0),\n",
    "( 0, 0, 0, 0, 0, 0, 0, 0, 0, 0, 0, 0, 0, 0, 0, 0, 4,-4, 0, 0,-4, 4, 0, 0, 0, 0, 0, 0, 0, 0, 0, 0, 2, 2, 0, 0,-2,-2, 0, 0, 0, 0, 0, 0, 0, 0, 0, 0, 2,-2, 0, 0, 2,-2, 0, 0, 1, 1, 0, 0, 1, 1, 0, 0),\n",
    "(-6, 0, 6, 0, 6, 0,-6, 0, 0, 0, 0, 0, 0, 0, 0, 0,-4, 0,-2, 0, 4, 0, 2, 0,-3, 0, 3, 0,-3, 0, 3, 0, 0, 0, 0, 0, 0, 0, 0, 0, 0, 0, 0, 0, 0, 0, 0, 0,-2, 0,-1, 0,-2, 0,-1, 0, 0, 0, 0, 0, 0, 0, 0, 0),\n",
    "( 0, 0, 0, 0, 0, 0, 0, 0,-6, 0, 6, 0, 6, 0,-6, 0, 0, 0, 0, 0, 0, 0, 0, 0, 0, 0, 0, 0, 0, 0, 0, 0,-4, 0,-2, 0, 4, 0, 2, 0,-3, 0, 3, 0,-3, 0, 3, 0, 0, 0, 0, 0, 0, 0, 0, 0,-2, 0,-1, 0,-2, 0,-1, 0),\n",
    "(18,-18,-18,18,-18,18,18,-18,12, 6,-12,-6,-12,-6,12, 6,12,-12, 6,-6,-12,12,-6, 6, 9,-9,-9, 9, 9,-9,-9, 9, 8, 4, 4, 2,-8,-4,-4,-2, 6, 3,-6,-3, 6, 3,-6,-3, 6,-6, 3,-3, 6,-6, 3,-3, 4, 2, 2, 1, 4, 2, 2, 1),\n",
    "(-12,12,12,-12,12,-12,-12,12,-6,-6, 6, 6, 6, 6,-6,-6,-8, 8,-4, 4, 8,-8, 4,-4,-6, 6, 6,-6,-6, 6, 6,-6,-4,-4,-2,-2, 4, 4, 2, 2,-3,-3, 3, 3,-3,-3, 3, 3,-4, 4,-2, 2,-4, 4,-2, 2,-2,-2,-1,-1,-2,-2,-1,-1),\n",
    "( 4, 0,-4, 0,-4, 0, 4, 0, 0, 0, 0, 0, 0, 0, 0, 0, 2, 0, 2, 0,-2, 0,-2, 0, 2, 0,-2, 0, 2, 0,-2, 0, 0, 0, 0, 0, 0, 0, 0, 0, 0, 0, 0, 0, 0, 0, 0, 0, 1, 0, 1, 0, 1, 0, 1, 0, 0, 0, 0, 0, 0, 0, 0, 0),\n",
    "( 0, 0, 0, 0, 0, 0, 0, 0, 4, 0,-4, 0,-4, 0, 4, 0, 0, 0, 0, 0, 0, 0, 0, 0, 0, 0, 0, 0, 0, 0, 0, 0, 2, 0, 2, 0,-2, 0,-2, 0, 2, 0,-2, 0, 2, 0,-2, 0, 0, 0, 0, 0, 0, 0, 0, 0, 1, 0, 1, 0, 1, 0, 1, 0),\n",
    "(-12,12,12,-12,12,-12,-12,12,-8,-4, 8, 4, 8, 4,-8,-4,-6, 6,-6, 6, 6,-6, 6,-6,-6, 6, 6,-6,-6, 6, 6,-6,-4,-2,-4,-2, 4, 2, 4, 2,-4,-2, 4, 2,-4,-2, 4, 2,-3, 3,-3, 3,-3, 3,-3, 3,-2,-1,-2,-1,-2,-1,-2,-1),\n",
    "( 8,-8,-8, 8,-8, 8, 8,-8, 4, 4,-4,-4,-4,-4, 4, 4, 4,-4, 4,-4,-4, 4,-4, 4, 4,-4,-4, 4, 4,-4,-4, 4, 2, 2, 2, 2,-2,-2,-2,-2, 2, 2,-2,-2, 2, 2,-2,-2, 2,-2, 2,-2, 2,-2, 2,-2, 1, 1, 1, 1, 1, 1, 1, 1)\n",
    "])"
   ]
  },
  {
   "cell_type": "code",
   "execution_count": 9,
   "metadata": {
    "collapsed": false
   },
   "outputs": [],
   "source": [
    "def get_target_Y(x, y, z):\n",
    "    Y = np.zeros([len(x),64])\n",
    "    Y[:,0] = 1.\n",
    "    Y[:,1] = x\n",
    "    Y[:,2] = x**2\n",
    "    Y[:,3] = x**3\n",
    "    Y[:,4] = y\n",
    "    Y[:,5] = x*y\n",
    "    Y[:,6] = x**2*y\n",
    "    Y[:,7] = x**3*y\n",
    "    Y[:,8] = y**2\n",
    "    Y[:,9] = x*y**2\n",
    "    Y[:,10] = x**2*y**2\n",
    "    Y[:,11] = x**3*y**2\n",
    "    Y[:,12] = y**3\n",
    "    Y[:,13] = x*y**3\n",
    "    Y[:,14] = x**2*y**3\n",
    "    Y[:,15] = x**3*y**3\n",
    "    \n",
    "\n",
    "    Y[:,16] = z\n",
    "    Y[:,17] = x*z\n",
    "    Y[:,18] = x**2*z\n",
    "    Y[:,19] = x**3*z\n",
    "    Y[:,20] = y*z\n",
    "    Y[:,21] = x*y*z\n",
    "    Y[:,22] = x**2*y*z\n",
    "    Y[:,23] = x**3*y*z\n",
    "    Y[:,24] = y**2*z\n",
    "    Y[:,25] = x*y**2*z\n",
    "    Y[:,26] = x**2*y**2*z\n",
    "    Y[:,27] = x**3*y**2*z\n",
    "    Y[:,28] = y**3*z\n",
    "    Y[:,29] = x*y**3*z\n",
    "    Y[:,30] = x**2*y**3*z\n",
    "    Y[:,31] = x**3*y**3*z\n",
    "    \n",
    "    Y[:,32] = z**2\n",
    "    Y[:,33] = x*z**2\n",
    "    Y[:,34] = x**2*z**2\n",
    "    Y[:,35] = x**3*z**2\n",
    "    Y[:,36] = y*z**2\n",
    "    Y[:,37] = x*y*z**2\n",
    "    Y[:,38] = x**2*y*z**2\n",
    "    Y[:,39] = x**3*y*z**2\n",
    "    Y[:,40] = y**2*z**2\n",
    "    Y[:,41] = x*y**2*z**2\n",
    "    Y[:,42] = x**2*y**2*z**2\n",
    "    Y[:,43] = x**3*y**2*z**2\n",
    "    Y[:,44] = y**3*z**2\n",
    "    Y[:,45] = x*y**3*z**2\n",
    "    Y[:,46] = x**2*y**3*z**2\n",
    "    Y[:,47] = x**3*y**3*z**2\n",
    "    \n",
    "    Y[:,48] = z**3\n",
    "    Y[:,49] = x*z**3\n",
    "    Y[:,50] = x**2*z**3\n",
    "    Y[:,51] = x**3*z**3\n",
    "    Y[:,52] = y*z**3\n",
    "    Y[:,53] = x*y*z**3\n",
    "    Y[:,54] = x**2*y*z**3\n",
    "    Y[:,55] = x**3*y*z**3\n",
    "    Y[:,56] = y**2*z**3\n",
    "    Y[:,57] = x*y**2*z**3\n",
    "    Y[:,58] = x**2*y**2*z**3\n",
    "    Y[:,59] = x**3*y**2*z**3\n",
    "    Y[:,60] = y**3*z**3\n",
    "    Y[:,61] = x*y**3*z**3\n",
    "    Y[:,62] = x**2*y**3*z**3\n",
    "    Y[:,63] = x**3*y**3*z**3\n",
    "\n",
    "    return Y"
   ]
  },
  {
   "cell_type": "code",
   "execution_count": 15,
   "metadata": {
    "collapsed": false
   },
   "outputs": [],
   "source": [
    "def tricubic_interp(volume, x, y, z):\n",
    "    xr = x.ravel()\n",
    "    yr = y.ravel()\n",
    "    zr = z.ravel()\n",
    "    \n",
    "    # find the closes grid of the target points\n",
    "    x1 = np.floor(x).astype(int)\n",
    "    \n",
    "    # Take care of boundary conditions\n",
    "    x0 = x1 - 1\n",
    "    x2 = x1 + 1\n",
    "    x3 = x2 + 1\n",
    "    \n",
    "    y1 = np.floor(y).astype(int)\n",
    "    y0 = y1 - 1\n",
    "    y2 = y1 + 1\n",
    "    y3 = y2 + 1\n",
    "        \n",
    "    z1 = np.floor(z).astype(int)\n",
    "    z0 = z1 - 1\n",
    "    z2 = z1 + 1\n",
    "    z3 = z2 + 1\n",
    "    \n",
    "    # we need to clip the range \n",
    "    x0 = np.clip(x0, 0, volume.shape[1]-1)\n",
    "    x1 = np.clip(x1, 0, volume.shape[1]-1)\n",
    "    x2 = np.clip(x2, 0, volume.shape[1]-1)\n",
    "    x3 = np.clip(x3, 0, volume.shape[1]-1)\n",
    "    y0 = np.clip(y0, 0, volume.shape[0]-1)\n",
    "    y1 = np.clip(y1, 0, volume.shape[0]-1)\n",
    "    y2 = np.clip(y2, 0, volume.shape[0]-1)\n",
    "    y3 = np.clip(y3, 0, volume.shape[0]-1)\n",
    "    z0 = np.clip(z0, 0, volume.shape[2]-1)\n",
    "    z1 = np.clip(z1, 0, volume.shape[2]-1)\n",
    "    z2 = np.clip(z2, 0, volume.shape[2]-1)\n",
    "    z3 = np.clip(z3, 0, volume.shape[2]-1)\n",
    "    \n",
    "    # compute the vector of coefficients A\n",
    "    # first compute vector Y from known points to solve for A\n",
    "    Y = np.zeros([64,len(xr)])\n",
    "    # values of f(x,y,z) at each corner.\n",
    "    Y[0] = volume[y1,x1,z1].ravel()\n",
    "    Y[1] = volume[y1,x2,z1].ravel()\n",
    "    Y[2] = volume[y2,x1,z1].ravel()\n",
    "    Y[3] = volume[y2,x2,z1].ravel()\n",
    "    Y[4] = volume[y1,x1,z2].ravel()\n",
    "    Y[5] = volume[y1,x2,z2].ravel()\n",
    "    Y[6] = volume[y2,x1,z2].ravel()\n",
    "    Y[7] = volume[y2,x2,z2].ravel()\n",
    "    \n",
    "    # values of df/dx at each corner.\n",
    "    Y[8] = ((volume[y1,x2,z1]-volume[y1,x0,z1])/2.).ravel()\n",
    "    Y[9] = ((volume[y1,x3,z1]-volume[y1,x1,z1])/2.).ravel()\n",
    "    Y[10] = ((volume[y2,x2,z1]-volume[y2,x0,z1])/2.).ravel()\n",
    "    Y[11] = ((volume[y2,x3,z1]-volume[y2,x1,z1])/2.).ravel()\n",
    "    Y[12] = ((volume[y2,x1,z2]-volume[y0,x1,z2])/2.).ravel()\n",
    "    Y[13] = ((volume[y2,x2,z2]-volume[y0,x2,z2])/2.).ravel()\n",
    "    Y[14] = ((volume[y3,x1,z2]-volume[y1,x1,z2])/2.).ravel()\n",
    "    Y[15] = ((volume[y3,x2,z2]-volume[y1,x2,z2])/2.).ravel()\n",
    "\n",
    "    # values of df/dy at each corner.\n",
    "    Y[16] = ((volume[y2,x1,z1]-volume[y0,x1,z1])/2.).ravel()\n",
    "    Y[17] = ((volume[y2,x2,z1]-volume[y0,x2,z1])/2.).ravel()\n",
    "    Y[18] = ((volume[y3,x1,z1]-volume[y1,x1,z1])/2.).ravel()\n",
    "    Y[19] = ((volume[y3,x2,z1]-volume[y1,x2,z1])/2.).ravel()\n",
    "    Y[20] = ((volume[y2,x1,z2]-volume[y0,x1,z2])/2.).ravel()\n",
    "    Y[21] = ((volume[y2,x2,z2]-volume[y0,x2,z2])/2.).ravel()\n",
    "    Y[22] = ((volume[y3,x1,z2]-volume[y1,x1,z2])/2.).ravel()\n",
    "    Y[23] = ((volume[y3,x2,z2]-volume[y1,x2,z2])/2.).ravel()\n",
    "    \n",
    "    # values of df/dz at each corner.\n",
    "    Y[24] = ((volume[y1,x1,z2]-volume[y1,x1,z0])/2.).ravel()\n",
    "    Y[25] = ((volume[y1,x2,z2]-volume[y1,x2,z0])/2.).ravel()\n",
    "    Y[26] = ((volume[y2,x1,z2]-volume[y2,x1,z0])/2.).ravel()\n",
    "    Y[27] = ((volume[y2,x2,z2]-volume[y2,x2,z0])/2.).ravel()\n",
    "    Y[28] = ((volume[y1,x1,z3]-volume[y1,x1,z1])/2.).ravel()\n",
    "    Y[29] = ((volume[y1,x2,z3]-volume[y1,x2,z1])/2.).ravel()\n",
    "    Y[30] = ((volume[y2,x1,z3]-volume[y2,x1,z1])/2.).ravel()\n",
    "    Y[31] = ((volume[y2,x2,z3]-volume[y2,x2,z1])/2.).ravel()\n",
    "    \n",
    "    # values of d2f/dxdy at each corner.\n",
    "    Y[32] = ((volume[y2,x2,z1]-volume[y2,x0,z1]-volume[y0,x2,z1]+volume[y0,x0,z1])/4.).ravel()\n",
    "    Y[33] = ((volume[y2,x3,z1]-volume[y2,x1,z1]-volume[y0,x3,z1]+volume[y0,x1,z1])/4.).ravel()\n",
    "    Y[34] = ((volume[y3,x2,z1]-volume[y3,x0,z1]-volume[y1,x2,z1]+volume[y1,x0,z1])/4.).ravel()\n",
    "    Y[35] = ((volume[y3,x3,z1]-volume[y3,x1,z1]-volume[y1,x3,z1]+volume[y1,x1,z1])/4.).ravel()\n",
    "    Y[36] = ((volume[y2,x2,z2]-volume[y2,x0,z2]-volume[y0,x2,z2]+volume[y0,x0,z2])/4.).ravel()\n",
    "    Y[37] = ((volume[y2,x3,z2]-volume[y2,x1,z2]-volume[y0,x3,z2]+volume[y0,x1,z2])/4.).ravel()\n",
    "    Y[38] = ((volume[y3,x2,z2]-volume[y3,x0,z2]-volume[y1,x2,z2]+volume[y1,x0,z2])/4.).ravel()\n",
    "    Y[39] = ((volume[y3,x3,z2]-volume[y3,x1,z2]-volume[y1,x3,z2]+volume[y1,x1,z2])/4.).ravel()\n",
    "\n",
    "    # values of d2f/dxdz at each corner.\n",
    "    Y[40] = ((volume[y1,x2,z2]-volume[y1,x0,z2]-volume[y1,x2,z0]+volume[y1,x0,z0])/4.).ravel()\n",
    "    Y[41] = ((volume[y1,x3,z2]-volume[y1,x1,z2]-volume[y1,x3,z0]+volume[y1,x1,z0])/4.).ravel()\n",
    "    Y[42] = ((volume[y2,x2,z2]-volume[y2,x0,z2]-volume[y2,x2,z0]+volume[y2,x0,z0])/4.).ravel()\n",
    "    Y[43] = ((volume[y2,x3,z2]-volume[y2,x1,z2]-volume[y2,x3,z0]+volume[y2,x1,z0])/4.).ravel()\n",
    "    Y[44] = ((volume[y1,x2,z3]-volume[y1,x0,z3]-volume[y1,x2,z1]+volume[y1,x0,z1])/4.).ravel()\n",
    "    Y[45] = ((volume[y1,x3,z3]-volume[y1,x1,z3]-volume[y1,x3,z1]+volume[y1,x1,z1])/4.).ravel()\n",
    "    Y[46] = ((volume[y2,x2,z3]-volume[y2,x0,z3]-volume[y2,x2,z1]+volume[y2,x0,z1])/4.).ravel()\n",
    "    Y[47] = ((volume[y2,x3,z3]-volume[y2,x1,z3]-volume[y2,x3,z1]+volume[y2,x1,z1])/4.).ravel()\n",
    "    \n",
    "    # values of d2f/dydz at each corner.\n",
    "    Y[48] = ((volume[y2,x1,z2]-volume[y0,x1,z2]-volume[y2,x1,z0]+volume[y0,x1,z0])/4.).ravel()\n",
    "    Y[49] = ((volume[y2,x2,z2]-volume[y0,x2,z2]-volume[y2,x2,z0]+volume[y0,x2,z0])/4.).ravel()\n",
    "    Y[50] = ((volume[y3,x1,z2]-volume[y1,x1,z2]-volume[y3,x1,z0]+volume[y1,x1,z0])/4.).ravel()\n",
    "    Y[51] = ((volume[y3,x2,z2]-volume[y1,x2,z2]-volume[y3,x2,z0]+volume[y1,x2,z0])/4.).ravel()\n",
    "    Y[52] = ((volume[y2,x1,z3]-volume[y0,x1,z3]-volume[y2,x1,z1]+volume[y0,x1,z1])/4.).ravel()\n",
    "    Y[53] = ((volume[y2,x2,z3]-volume[y0,x2,z3]-volume[y2,x2,z1]+volume[y0,x2,z1])/4.).ravel()\n",
    "    Y[54] = ((volume[y3,x1,z3]-volume[y1,x1,z3]-volume[y3,x1,z1]+volume[y1,x1,z1])/4.).ravel()\n",
    "    Y[55] = ((volume[y3,x2,z3]-volume[y1,x2,z3]-volume[y3,x2,z1]+volume[y1,x2,z1])/4.).ravel()\n",
    "    \n",
    "    # values of d3f/dxdydz at each corner.\n",
    "    Y[56] = ((volume[y2,x2,z2]-volume[y2,x0,z2]-volume[y0,x2,z2]+volume[y0,x0,z2]\n",
    "              -volume[y2,x2,z0]-volume[y2,x0,z0]-volume[y0,x2,z0]+volume[y0,x0,z0])/8.).ravel()\n",
    "    Y[57] = ((volume[y2,x3,z2]-volume[y2,x1,z2]-volume[y0,x3,z2]+volume[y0,x1,z2]\n",
    "              -volume[y2,x3,z0]-volume[y2,x1,z0]-volume[y0,x3,z0]+volume[y0,x1,z0])/8.).ravel()\n",
    "    Y[58] = ((volume[y3,x2,z2]-volume[y3,x0,z2]-volume[y1,x2,z2]+volume[y1,x0,z2]\n",
    "              -volume[y3,x2,z0]-volume[y3,x0,z0]-volume[y1,x2,z0]+volume[y1,x0,z0])/8.).ravel()\n",
    "    Y[59] = ((volume[y3,x3,z2]-volume[y3,x1,z2]-volume[y1,x3,z2]+volume[y1,x1,z2]\n",
    "              -volume[y3,x3,z0]-volume[y3,x1,z0]-volume[y1,x3,z0]+volume[y1,x1,z0])/8.).ravel()\n",
    "\n",
    "    Y[60] = ((volume[y2,x2,z3]-volume[y2,x0,z3]-volume[y0,x2,z3]+volume[y0,x0,z3]\n",
    "              -volume[y2,x2,z1]-volume[y2,x0,z1]-volume[y0,x2,z1]+volume[y0,x0,z1])/8.).ravel()\n",
    "    Y[61] = ((volume[y2,x3,z3]-volume[y2,x1,z3]-volume[y0,x3,z3]+volume[y0,x1,z3]\n",
    "              -volume[y2,x3,z1]-volume[y2,x1,z1]-volume[y0,x3,z1]+volume[y0,x1,z1])/8.).ravel()\n",
    "    Y[62] = ((volume[y3,x2,z3]-volume[y3,x0,z3]-volume[y1,x2,z3]+volume[y1,x0,z3]\n",
    "              -volume[y3,x2,z1]-volume[y3,x0,z1]-volume[y1,x2,z1]+volume[y1,x0,z1])/8.).ravel()\n",
    "    Y[63] = ((volume[y3,x3,z3]-volume[y3,x1,z3]-volume[y1,x3,z3]+volume[y1,x1,z3]\n",
    "              -volume[y3,x3,z1]-volume[y3,x1,z1]-volume[y1,x3,z1]+volume[y1,x1,z1])/8.).ravel()    \n",
    "\n",
    "    # Compute A\n",
    "    A = np.dot(X_inv,Y)\n",
    "    \n",
    "    # get vector Y from points that need to be interpolated\n",
    "    target_Y = get_target_Y(xr-np.floor(xr), yr-np.floor(yr), zr-np.floor(zr))\n",
    "    # compute result\n",
    "    result = np.dot(target_Y,A)\n",
    "    # only need the diagonal values and reshape them back to original shape\n",
    "    return np.reshape(result.diagonal(),x.shape)"
   ]
  },
  {
   "cell_type": "markdown",
   "metadata": {},
   "source": [
    "###Test Tricubic Interpolation###"
   ]
  },
  {
   "cell_type": "code",
   "execution_count": null,
   "metadata": {
    "collapsed": false
   },
   "outputs": [],
   "source": [
    "# create meshgrid for interpolation\n",
    "n = 32\n",
    "grid_x, grid_y, grid_z = np.meshgrid(np.linspace(0,31,n),np.linspace(0,31,n),np.linspace(0,31,n))\n",
    "\n",
    "# time the interpolation for reference\n",
    "t0 = time.time()\n",
    "# interpolate vol1 and vol2 on the same grid\n",
    "vol1_tri = tricubic_interp(vol1, grid_x, grid_y, grid_z)\n",
    "#vol2_tri = tricubic_interp(vol2, grid_x, grid_y, grid_z)\n",
    "t1 = time.time()\n",
    "print \"time for interpolation with %s point is %s seconds\" % (n,t1-t0)\n",
    "\n",
    "# plot results\n",
    "fig, ax = plt.subplots(2,3)\n",
    "fig.set_figwidth(15)\n",
    "fig.set_figheight(10)\n",
    "[ax[0][i].imshow(vol1.max(axis=i)) for i in xrange(3)]\n",
    "[ax[0][i].set_title('Original Image') for i in xrange(3)]\n",
    "[ax[1][i].imshow(vol1_tri.max(axis=i)) for i in xrange(3)]\n",
    "[ax[1][i].set_title('After Interpolation') for i in xrange(3)]\n",
    "plt.show()\n",
    "plt.close(fig)"
   ]
  },
  {
   "cell_type": "code",
   "execution_count": 3,
   "metadata": {
    "collapsed": false
   },
   "outputs": [],
   "source": [
    "def to_radian(theta):\n",
    "    '''\n",
    "    Convert theta from degrees to radians\n",
    "    '''\n",
    "    return theta*np.pi/180.\n",
    "\n",
    "def rotation_matrix_zyx(gamma, beta, alpha):\n",
    "    \"\"\"\n",
    "    Return the rotation matrix associated with counterclockwise rotation \n",
    "    about x axis by gamma degrees\n",
    "    about y axis by beta degrees\n",
    "    about z axis by alpha degrees\n",
    "    \"\"\"\n",
    "    # convert degrees to radians\n",
    "    gamma = to_radian(gamma)\n",
    "    beta = to_radian(beta)\n",
    "    alpha = to_radian(alpha)\n",
    "    \n",
    "    rz = np.array([[np.cos(alpha),-np.sin(alpha),0],[np.sin(alpha),np.cos(alpha),0],[0,0,1]])\n",
    "    ry = np.array([[np.cos(beta),0, np.sin(beta)],[0, 1, 0],[-np.sin(beta),0,np.cos(beta)]])\n",
    "    rx = np.array([[1,0,0],[0,np.cos(gamma),-np.sin(gamma)],[0,np.sin(gamma),np.cos(gamma)]])\n",
    "    return (rz.dot(ry)).dot(rx)\n",
    "\n",
    "def transformation_matrix(t):\n",
    "    R = rotat\n",
    "    t = np.zeros([1,3])\n",
    "    tmp = np.vstack([a,t])\n",
    "    tt = np.ones([4,1])\n",
    "    np.hstack([tmp,tt])\n",
    "\n",
    "def rotate_coords(x, y, z, gamma, beta, alpha, t, ox, oy, oz):\n",
    "    \"\"\"\n",
    "    Rotate arrays of coordinates x, y and z about the point (ox, oy, oz)\n",
    "    about x axis by gamma degrees\n",
    "    about y axis by beta degrees\n",
    "    about z axis by alpha degrees\n",
    "    \"\"\"\n",
    "\n",
    "    R = rotation_matrix_zyx(gamma, beta, alpha)\n",
    "    \n",
    "    x, y, z = np.asarray(x) - ox, np.asarray(y) - oy, np.asarray(z) - oz\n",
    "    return ((R[0][0]*x + R[0][1]*y + R[0][2]*z + t[0]) + ox, \n",
    "            (R[1][0]*x + R[1][1]*y + R[1][2]*z + t[1]) + oy, \n",
    "            (R[2][0]*x + R[2][1]*y + R[2][2]*z + + t[2]) + oz\n",
    "            )\n",
    "def sphere_mask(volume):\n",
    "    \n",
    "    ox = volume.shape[1]/2.-0.5\n",
    "    oy = volume.shape[0]/2.-0.5\n",
    "    oy = volume.shape[2]/2.-0.5\n",
    "    \n",
    "    r = len(volume)/2.-0.5\n",
    "    \n",
    "    x,y,z = np.ogrid[-ox:volume.shape[1]-ox, -oy:volume.shape[0]-oy,-oz:volume.shape[2]-oz]\n",
    "    mask = x*x + y*y + z*z <= r*r\n",
    "    vol = np.array(volume)\n",
    "    vol[~mask] = 0\n",
    "    return vol"
   ]
  },
  {
   "cell_type": "code",
   "execution_count": 4,
   "metadata": {
    "collapsed": false
   },
   "outputs": [],
   "source": [
    "def volrotate(volume, gamma, beta, alpha, t, interpolation='trilinear', mask=False):\n",
    "    \n",
    "    # find center of the volume\n",
    "    ox = volume.shape[1]/2.-0.5\n",
    "    oy = volume.shape[0]/2.-0.5\n",
    "    oz = volume.shape[2]/2.-0.5\n",
    "    \n",
    "    x = np.linspace(0, volume.shape[1]-1, volume.shape[1]).astype(int)\n",
    "    y = np.linspace(0, volume.shape[0]-1, volume.shape[0]).astype(int)\n",
    "    z = np.linspace(0, volume.shape[2]-1, volume.shape[2]).astype(int)\n",
    "    xx, yy, zz = np.meshgrid(x, y, z)\n",
    "    \n",
    "    dest_x, dest_y, dest_z = rotate_coords(xx, yy, zz, gamma, beta, alpha, t, ox, oy, oz)\n",
    "    if(interpolation == 'tricubic'):\n",
    "        dest = tricubic_interp(volume, dest_x, dest_y, dest_z)\n",
    "    else:\n",
    "        dest = trilinear_interp(volume, dest_x, dest_y, dest_z)\n",
    "    \n",
    "    if(mask):\n",
    "        dest = sphere_mask(dest)\n",
    "    return dest"
   ]
  },
  {
   "cell_type": "markdown",
   "metadata": {},
   "source": [
    "<h1>\n",
    "<span style=\"color:red\">\n",
    "Quaternions in spatial rotations\n",
    "</span>\n",
    "</h1>"
   ]
  },
  {
   "cell_type": "code",
   "execution_count": 41,
   "metadata": {
    "collapsed": true
   },
   "outputs": [],
   "source": [
    "def Hamilton_product(a1, b1, c1, d1, a2, b2, c2, d2):\n",
    "    a = a1*a2-b1*b2-c1*c2-d1*d2\n",
    "    i = a1*b2+b1*a2+c1*d2-d1*c2\n",
    "    j = a1*c2-b1*d2+c1*a2+d1*b2\n",
    "    k = a1*d2+b1*c2-c1*b2+d1*a2\n",
    "    return a, i, j, k"
   ]
  },
  {
   "cell_type": "code",
   "execution_count": 158,
   "metadata": {
    "collapsed": false
   },
   "outputs": [],
   "source": [
    "def rotate_coords_quaternion(theta, ui, uj, uk, t, x, y, z):\n",
    "    \"\"\"\n",
    "    Return the position of rotated point about quaternion u by theta degrees\n",
    "    \"\"\"\n",
    "    ox = oy = oz = 15.5\n",
    "    x, y, z = np.asarray(x) - ox, np.asarray(y) - oy, np.asarray(z) - oz\n",
    "    \n",
    "    # convert degrees to radians\n",
    "    theta = to_radian(theta)\n",
    "    qr = np.cos(theta/2.)\n",
    "    s = np.sin(theta/2.)\n",
    "    \n",
    "    # coefficients for q and q^-1\n",
    "    a1 = qr\n",
    "    b1 = ui*s\n",
    "    c1 = uj*s\n",
    "    d1 = uk*s\n",
    "\n",
    "    # calculate q*p*q^-1\n",
    "    qp_a1, qp_b1, qp_c1, qp_d1 = Hamilton_product(a1,b1,c1,d1,0,x,y,z)\n",
    "    \n",
    "    # calculate final coordinates\n",
    "    a, b, c, d = Hamilton_product(qp_a1, qp_b1, qp_c1, qp_d1,a1,-b1,-c1,-d1)\n",
    "    \n",
    "    return b + t[0] + ox, c + t[1] + oy, d + t[1] + oz\n",
    "\n",
    "def volrotate_quaternion(volume, theta, ui, uj, uk,  t, mask=False):\n",
    "    \"\"\"\n",
    "    Rotate a given volume by theta degrees about the unit quarternion u\n",
    "    \"\"\"\n",
    "    # find center of the volume\n",
    "    ox = volume.shape[1]/2.-0.5\n",
    "    oy = volume.shape[0]/2.-0.5\n",
    "    oz = volume.shape[2]/2.-0.5\n",
    "    \n",
    "    x = np.linspace(0, volume.shape[1]-1, volume.shape[1]).astype(int)\n",
    "    y = np.linspace(0, volume.shape[0]-1, volume.shape[0]).astype(int)\n",
    "    z = np.linspace(0, volume.shape[2]-1, volume.shape[2]).astype(int)\n",
    "    xx, yy, zz = np.meshgrid(x, y, z)\n",
    "    \n",
    "    dest_x, dest_y, dest_z = rotate_coords_quaternion(theta, ui, uj, uk, t, xx, yy, zz)\n",
    "    \n",
    "    dest = trilinear_interp(volume, dest_x, dest_y, dest_z)\n",
    "    \n",
    "    if(mask):\n",
    "        dest = sphere_mask(dest)\n",
    "    return dest"
   ]
  },
  {
   "cell_type": "markdown",
   "metadata": {},
   "source": [
    "#Cost Functions#"
   ]
  },
  {
   "cell_type": "code",
   "execution_count": 165,
   "metadata": {
    "collapsed": false
   },
   "outputs": [],
   "source": [
    "def cf_ssd(J, I):\n",
    "    return np.sum((J-I)**2)\n",
    "def cf_L2(J, I):\n",
    "    return np.linalg.norm(J-I)\n",
    "def cf_L1(J, I):\n",
    "    L1 = np.reshape((J-I), [1,-1])\n",
    "    return np.max(L1)"
   ]
  },
  {
   "cell_type": "code",
   "execution_count": 166,
   "metadata": {
    "collapsed": false
   },
   "outputs": [],
   "source": [
    "def vol_cost_func(vol1, vol2, thetas, t, cf, arg, ax, interpolation='trilinear',rotate = None, mask=False):\n",
    "    '''\n",
    "    vol1: original image\n",
    "    vol2: volume to be rotated\n",
    "    thetas: list of degress to try\n",
    "    cf: cost function\n",
    "    arg: string for plot titles\n",
    "    '''\n",
    "    cost_func = np.zeros(len(thetas))\n",
    "    for idx, th in enumerate(thetas):\n",
    "        if(rotate == 'q'):\n",
    "            new_vol2 = volrotate_q(vol2, th, 0, 1, 0, t)\n",
    "        else:\n",
    "            new_vol2 = volrotate(vol2, 0, th, 0, t, interpolation)\n",
    "        cost_func[idx] = cf(new_vol2,vol1)\n",
    "    angMin = thetas[np.argmin(cost_func)]\n",
    "    ax.plot(thetas,cost_func,label='Min angle = %s' % (angMin))\n",
    "    ax.set_title('%s Cost function with bilinear interpolation' % (arg), fontsize=14)\n",
    "    ax.set_xlabel('Angle (degrees)')\n",
    "    ax.set_ylabel('Cost function')\n",
    "    ax.legend()"
   ]
  },
  {
   "cell_type": "code",
   "execution_count": null,
   "metadata": {
    "collapsed": false
   },
   "outputs": [],
   "source": [
    "vol1 = np.memmap(path+files[0], dtype=np.float32, mode='c', shape=(32,32,32))\n",
    "vol1 = np.array(vol1)\n",
    "vol2 = np.memmap(path+files[5], dtype=np.float32, mode='c', shape=(32,32,32))\n",
    "vol2 = np.array(vol2)"
   ]
  },
  {
   "cell_type": "code",
   "execution_count": null,
   "metadata": {
    "collapsed": false
   },
   "outputs": [],
   "source": [
    "# Discrete Sum Cost Function with rotation matrix\n",
    "thetas=np.arange(-8,8,0.1)\n",
    "t = np.zeros([3,])\n",
    "# without circular mask\n",
    "fig, ax = plt.subplots(1,3)\n",
    "fig.set_figwidth(20)\n",
    "fig.set_figheight(5)\n",
    "fig.suptitle(\"Without circular mask\")\n",
    "vol_cost_func(vol1, vol2, thetas, t, cf_ssd, 'SSD',ax[0])\n",
    "vol_cost_func(vol1, vol2, thetas, t, cf_L1, 'L1-norm',ax[1])\n",
    "vol_cost_func(vol1, vol2, thetas, t, cf_L2, 'L2-norm',ax[2])\n",
    "plt.show()\n",
    "plt.close(fig)"
   ]
  },
  {
   "cell_type": "code",
   "execution_count": null,
   "metadata": {
    "collapsed": false
   },
   "outputs": [],
   "source": [
    "# Discrete Sum Cost Function with Quaternion matrix\n",
    "thetas=np.arange(-8,8,0.1)\n",
    "t = np.zeros([3,])\n",
    "# without circular mask\n",
    "fig, ax = plt.subplots(1,3)\n",
    "fig.set_figwidth(20)\n",
    "fig.set_figheight(5)\n",
    "fig.suptitle(\"Without circular mask\")\n",
    "vol_cost_func(vol1, vol2, thetas, t, cf_ssd, 'SSD',ax[0], 'q')\n",
    "vol_cost_func(vol1, vol2, thetas, t, cf_L1, 'L1-norm',ax[1], 'q')\n",
    "vol_cost_func(vol1, vol2, thetas, t, cf_L2, 'L2-norm',ax[2], 'q')\n",
    "plt.show()\n",
    "plt.close(fig)"
   ]
  },
  {
   "cell_type": "code",
   "execution_count": null,
   "metadata": {
    "collapsed": false
   },
   "outputs": [],
   "source": [
    "# Bicubic Interpolation smaller range\n",
    "# Discrete Sum Cost Function with rotation matrix\n",
    "thetas=np.arange(-5.5,-4.5,0.2)\n",
    "t = np.zeros([3,])\n",
    "# without circular mask\n",
    "fig, ax = plt.subplots(1,2)\n",
    "fig.set_figwidth(20)\n",
    "fig.set_figheight(5)\n",
    "fig.suptitle(\"Without circular mask\")\n",
    "vol_cost_func(vol1, vol2, thetas, t, cf_ssd, 'SSD', ax[0], 'tricubic')\n",
    "#vol_cost_func(vol1, vol2, thetas, t, cf_L1, 'L1-norm', ax[1], 'tr  icubic')\n",
    "vol_cost_func(vol1, vol2, thetas, t, cf_L2, 'L2-norm', ax[1], 'tricubic')\n",
    "plt.show()\n",
    "plt.close(fig)"
   ]
  },
  {
   "cell_type": "markdown",
   "metadata": {},
   "source": [
    "<header>\n",
    "<h1>\n",
    "<span style=\"color:red\">\n",
    "Halton Sampling\n",
    "</span>\n",
    "</h1>\n",
    "</header>"
   ]
  },
  {
   "cell_type": "markdown",
   "metadata": {},
   "source": [
    "According to Iman Aganj (Ananj 2010), using the quasi-random sampling method based on Halton sequences to compute the intergral SSD cost function can alleviate the artifacts due to grid effect when computing SSD as discrete sums because for discrete sums, only one of the two volumes is interplated and rotated, and the others remains as it is. However when using resampling to compute intergral sum, the same resampling and interpolation is done on both images.\n",
    "\n",
    "We will use quasi-random points generated by Halton sequences to evaluate the integral SSD cost function and compare the results with the discrete sum."
   ]
  },
  {
   "cell_type": "markdown",
   "metadata": {},
   "source": [
    "Halton Sequence is a quasi-random sampling mechanism that can be used for Monte Carlo methods in estimating integrals. Halton sequences are deterministic, and they draw more well spaced samples on a given sample space. Although they are of low discrepancy, they appears to be more 'random' in many cases. I will briefly demonstrate the result of samples generated by Halton Sequences below."
   ]
  },
  {
   "cell_type": "code",
   "execution_count": null,
   "metadata": {
    "collapsed": false
   },
   "outputs": [],
   "source": [
    "# Halton Sequence in 2D vs Pseudo Random Points in 2D\n",
    "sequencer = ghalton.Halton(2)\n",
    "points = sequencer.get(100)\n",
    "pts = np.array(points)\n",
    "x1 = 31*pts[:,0]\n",
    "y1 = 31*pts[:,1]\n",
    "plt.scatter(32*pts[:,1],32*pts[:,0])\n",
    "plt.title('Quasi-random points from Halton Sequences')\n",
    "plt.show()\n",
    "\n",
    "x = np.random.uniform(low = 0.0, high = 31.0, size = 100)\n",
    "y = np.random.uniform(low = 0.0, high = 31.0, size = 100)\n",
    "plt.scatter(x,y)\n",
    "plt.title('Random Points from Uniform Distribution')\n",
    "plt.show()"
   ]
  },
  {
   "cell_type": "markdown",
   "metadata": {},
   "source": [
    "Halton sequences suffers from high auto correlation with the subsequences, and in Monte Carlo integral approximation, highly auto-correlated points will lead to less effective samples. Generalized Halton Sequences addresses the problem by shuffling the extension of each number. Generalized Halton sequences performs better particularly with higher dimensions. (DeRainville 2012)"
   ]
  },
  {
   "cell_type": "code",
   "execution_count": null,
   "metadata": {
    "collapsed": false
   },
   "outputs": [],
   "source": [
    "#Halton Samples in 3D\n",
    "dim = 3\n",
    "sequencer = ghalton.Halton(3)\n",
    "points = sequencer.get(100)\n",
    "pts = np.array(points)\n",
    "x2 = 31*pts[:,0]\n",
    "y2 = 31*pts[:,1]\n",
    "z2 = 31*pts[:,2]\n",
    "\n",
    "sequencer = ghalton.GeneralizedHalton(ghalton.EA_PERMS[:dim])\n",
    "points = sequencer.get(100)\n",
    "pts = np.array(points)\n",
    "x3 = 31*pts[:,0]\n",
    "y3 = 31*pts[:,1]\n",
    "z3 = 31*pts[:,2]\n",
    "\n",
    "# Random samples from uniform distribution in 3D\n",
    "x = np.random.uniform(low = 0.0, high = 31.0, size = 100)\n",
    "y = np.random.uniform(low = 0.0, high = 31.0, size = 100)\n",
    "z = np.random.uniform(low = 0.0, high = 31.0, size = 100)"
   ]
  },
  {
   "cell_type": "code",
   "execution_count": null,
   "metadata": {
    "collapsed": false
   },
   "outputs": [],
   "source": [
    "from mpl_toolkits.mplot3d import Axes3D\n",
    "\n",
    "def randrange(n, vmin, vmax):\n",
    "    return (vmax-vmin)*np.random.rand(n) + vmin\n",
    "\n",
    "fig = plt.figure(figsize = [15,5])\n",
    "ax = fig.add_subplot(131, projection='3d')\n",
    "ax.scatter(x2, y2, z2)\n",
    "ax.view_init(elev=45, azim=45)\n",
    "ax.set_title('Halton Samples')\n",
    "\n",
    "ax = fig.add_subplot(132, projection='3d')\n",
    "ax.scatter(x3, y3, z3)\n",
    "ax.view_init(elev=45, azim=45)\n",
    "ax.set_title('Generalized Halton Samples')\n",
    "\n",
    "ax = fig.add_subplot(133, projection='3d')\n",
    "ax.scatter(x, y, z)\n",
    "ax.view_init(elev=45, azim=45)\n",
    "ax.set_title('Pseudo Random Samples')\n",
    "\n",
    "plt.show()\n",
    "plt.close(fig)\n"
   ]
  },
  {
   "cell_type": "code",
   "execution_count": null,
   "metadata": {
    "collapsed": false
   },
   "outputs": [],
   "source": [
    "def halton_cost_func(N, vol1, vol2, thetas, t, arg, mask=False):\n",
    "    '''\n",
    "    N: Number of Halton Sampling Points\n",
    "    vol1: original image\n",
    "    vol2: volume to be rotated\n",
    "    thetas: list of degress to try\n",
    "    arg: string for plot titles\n",
    "    '''\n",
    "    cost_func = np.zeros(len(thetas))\n",
    "    t0 = time.time()\n",
    "    # generate Halton Sequence in the 32*32*32 grid\n",
    "    sequencer = ghalton.GeneralizedHalton(ghalton.EA_PERMS[:3])\n",
    "    sequencer.reset()\n",
    "    points = sequencer.get(N)\n",
    "    pts = np.array(points)\n",
    "    x1 = 31 * pts[:,0]\n",
    "    y1 = 31 * pts[:,1]\n",
    "    z1 = 31 * pts[:,2]\n",
    "    \n",
    "    for idx, th in enumerate(thetas):\n",
    "        new_vol2 = volrotate(vol2, 0, th, 0, t)\n",
    "        v2 = trilinear_interp(new_vol2, x1, y1, z1)\n",
    "        v1 = trilinear_interp(vol1, x1, y1, z1)\n",
    "        cost_func[idx] = cf_ssd(v2,v1)\n",
    "    t1 = time.time()\n",
    "    print 'Time for %s halton samples is %s seconds' % (N,t1-t0) \n",
    "\n",
    "    angMin = thetas[np.argmin(cost_func)]\n",
    "    plt.plot(thetas,cost_func,label='Min angle = %s' % (angMin))\n",
    "    plt.title('Integral SSD (%s Halton Samples) with bilinear interpolation\\n' % (N), fontsize=12)\n",
    "    plt.xlabel('Angle (degrees)')\n",
    "    plt.ylabel('Integral SSD')\n",
    "    plt.legend()\n",
    "    plt.show()"
   ]
  },
  {
   "cell_type": "code",
   "execution_count": null,
   "metadata": {
    "collapsed": false
   },
   "outputs": [],
   "source": [
    "# Integral Cost function with Halton Sampling\n",
    "t = np.zeros([3,])\n",
    "thetas=np.arange(-8,8,0.1)\n",
    "# without circular mask\n",
    "halton_cost_func(100, vol1, vol2, thetas, t, cf_ssd, 'SSD')\n",
    "halton_cost_func(500, vol1, vol2, thetas, t, cf_ssd, 'SSD')\n",
    "halton_cost_func(1000, vol1, vol2, thetas, t, cf_ssd, 'SSD')\n",
    "halton_cost_func(10000, vol1, vol2, thetas, t, cf_ssd, 'SSD')\n",
    "halton_cost_func(50000, vol1, vol2, thetas, t, cf_ssd, 'SSD')"
   ]
  },
  {
   "cell_type": "markdown",
   "metadata": {},
   "source": [
    "<span style=\"color:red\">\n",
    "In this data, halton sampling did give a slightly more accurate results than discrete sum of SSD.\n",
    "</span>"
   ]
  },
  {
   "cell_type": "markdown",
   "metadata": {},
   "source": [
    "#Pineapple with multiple position and views#"
   ]
  },
  {
   "cell_type": "code",
   "execution_count": null,
   "metadata": {
    "collapsed": false
   },
   "outputs": [],
   "source": [
    "path1 = '/Users/zyzdiana/Dropbox/vNav_Test_Data/'\n",
    "files1 = get_files(os.listdir(path1))\n",
    "pos1 = files1[:(len(files1)/2)]\n",
    "pos2 = files1[(len(files1)/2):]\n",
    "print pos1\n",
    "print pos2"
   ]
  },
  {
   "cell_type": "markdown",
   "metadata": {},
   "source": [
    "The pineapple was physically rotated between position 1 and position 2, visualize the difference."
   ]
  },
  {
   "cell_type": "code",
   "execution_count": null,
   "metadata": {
    "collapsed": false
   },
   "outputs": [],
   "source": [
    "# Volume with Translation only\n",
    "vol1 = np.memmap(path1+pos1[0], dtype=np.float32, shape=(32,32,32))\n",
    "vol2 = np.memmap(path1+pos2[0], dtype=np.float32, shape=(32,32,32))\n",
    "diff = vol1-vol2\n",
    "fig, ax = plt.subplots(3,3)\n",
    "fig.set_figwidth(9)\n",
    "fig.set_figheight(9)\n",
    "[ax[0][i].imshow(vol1.max(axis=i)) for i in xrange(3)]\n",
    "[ax[0][i].set_title('Position1 Volume%s' % (1)) for i in xrange(3)]\n",
    "[ax[1][i].imshow(vol2.max(axis=i)) for i in xrange(3)]\n",
    "[ax[1][i].set_title('Position2 Volume%s' % (1)) for i in xrange(3)]\n",
    "[ax[2][i].imshow(diff.max(axis=i)) for i in xrange(3)]\n",
    "[ax[2][i].set_title('Difference') for i in xrange(3)]\n",
    "plt.show()\n",
    "plt.close(fig)"
   ]
  },
  {
   "cell_type": "markdown",
   "metadata": {},
   "source": [
    "Within Position 1, the pineapple was first rotated by 5 degrees (View 2) and then translated by 10mm(View 3)."
   ]
  },
  {
   "cell_type": "code",
   "execution_count": null,
   "metadata": {
    "collapsed": false
   },
   "outputs": [],
   "source": [
    "vol1 = np.memmap(path1+pos1[0], dtype=np.float32, shape=(32,32,32))\n",
    "vol1 = np.array(vol1)\n",
    "vol2 = np.memmap(path1+pos1[5], dtype=np.float32, shape=(32,32,32))\n",
    "vol2 = np.array(vol2)\n",
    "vol3 = np.memmap(path1+pos1[10], dtype=np.float32, shape=(32,32,32))\n",
    "vol3 = np.array(vol3)\n",
    "fig, ax = plt.subplots(3,3)\n",
    "fig.set_figwidth(10)\n",
    "fig.set_figheight(10)\n",
    "[ax[0][i].imshow(vol1.max(axis=i)) for i in xrange(3)]\n",
    "[ax[0][i].set_title('Position1 View1 Rep1') for i in xrange(3)]\n",
    "[ax[1][i].imshow(vol2.max(axis=i)) for i in xrange(3)]\n",
    "[ax[1][i].set_title('Position1 View2 Rep1') for i in xrange(3)]\n",
    "[ax[2][i].imshow(vol3.max(axis=i)) for i in xrange(3)]\n",
    "[ax[2][i].set_title('Position1 View3 Rep1') for i in xrange(3)]\n",
    "plt.show()\n",
    "plt.close(fig)"
   ]
  },
  {
   "cell_type": "code",
   "execution_count": null,
   "metadata": {
    "collapsed": false
   },
   "outputs": [],
   "source": [
    "# Test Translation\n",
    "fig, ax = plt.subplots(3,3)\n",
    "fig.set_figwidth(10)\n",
    "fig.set_figheight(10)\n",
    "t_vol3 = volrotate(vol3, 0, 5, 0, [10,0,0])\n",
    "[ax[0][i].imshow(t_vol3.max(axis=i)) for i in xrange(3)]\n",
    "t_vol3 = volrotate(vol3, 0, 5, 0, [0,10,0])\n",
    "[ax[1][i].imshow(t_vol3.max(axis=i)) for i in xrange(3)]\n",
    "t_vol3 = volrotate(vol3, 0, 5, 0, [0,0,10])\n",
    "[ax[2][i].imshow(t_vol3.max(axis=i)) for i in xrange(3)]\n",
    "plt.show()\n",
    "plt.close(fig)"
   ]
  },
  {
   "cell_type": "markdown",
   "metadata": {},
   "source": [
    "Use the cost function to compute rotation and translation"
   ]
  },
  {
   "cell_type": "code",
   "execution_count": null,
   "metadata": {
    "collapsed": false
   },
   "outputs": [],
   "source": [
    "# Rotation First\n",
    "\n",
    "# Discrete Sum Cost Function\n",
    "t = np.zeros([3,])\n",
    "thetas=np.arange(-8,8,0.1)\n",
    "# without circular mask\n",
    "fig, ax = plt.subplots(1,3)\n",
    "fig.set_figwidth(20)\n",
    "fig.set_figheight(5)\n",
    "fig.suptitle(\"Without circular mask\")\n",
    "vol_cost_func(vol1, vol2, thetas, t, cf_ssd, 'SSD',ax[0])\n",
    "vol_cost_func(vol1, vol2, thetas, t, cf_L1, 'L1-norm',ax[1])\n",
    "vol_cost_func(vol1, vol2, thetas, t, cf_L2, 'L2-norm',ax[2])\n",
    "plt.show()\n",
    "plt.close(fig)"
   ]
  },
  {
   "cell_type": "code",
   "execution_count": null,
   "metadata": {
    "collapsed": false
   },
   "outputs": [],
   "source": [
    "# Integral Cost function with Halton Sampling\n",
    "t = np.zeros([3,])\n",
    "thetas=np.arange(-8,8,0.1)\n",
    "# without circular mask\n",
    "halton_cost_func(100, vol1, vol2, thetas, t, cf_ssd, 'SSD')\n",
    "halton_cost_func(500, vol1, vol2, thetas, t, cf_ssd, 'SSD')\n",
    "halton_cost_func(1000, vol1, vol2, thetas, t, cf_ssd, 'SSD')\n",
    "halton_cost_func(10000, vol1, vol2, thetas, t, cf_ssd, 'SSD')\n",
    "halton_cost_func(50000, vol1, vol2, thetas, t, cf_ssd, 'SSD')"
   ]
  },
  {
   "cell_type": "markdown",
   "metadata": {},
   "source": [
    "<span style=\"color:red\">\n",
    "Unlike the previous data, for this image, halton sampling actully performed worse than the sum of SSD\n",
    "</span>"
   ]
  },
  {
   "cell_type": "code",
   "execution_count": null,
   "metadata": {
    "collapsed": false
   },
   "outputs": [],
   "source": [
    "def vol_cost_func_t(vol1, vol2, theta, t, cf, arg, ax, rotate = None, mask=False):\n",
    "    '''\n",
    "    vol1: original image\n",
    "    vol2: volume to be rotated\n",
    "    thetas: list of degress to try\n",
    "    t: list of translation to try\n",
    "    cf: cost function\n",
    "    arg: string for plot titles\n",
    "    '''\n",
    "    cost_func = np.zeros(len(t))\n",
    "    for idx, th in enumerate(t):\n",
    "        if(rotate == 'q'):\n",
    "            new_vol2 = volrotate_q(vol2, theta, 0, 1, 0, th)\n",
    "        else:\n",
    "            new_vol2 = volrotate(vol2, 0, theta, 0, th)\n",
    "        cost_func[idx] = cf(new_vol2,vol1)\n",
    "    tMin = t[np.argmin(cost_func)]\n",
    "    t = np.array(t)\n",
    "    ax.plot(np.array(t*8.)[:,2],cost_func,label='Min translation = %s' % (tMin*8.))\n",
    "    ax.set_title('%s Cost function with bilinear interpolation' % (arg), fontsize=14)\n",
    "    ax.set_xlabel('Translation (mm)')\n",
    "    ax.set_ylabel('Cost function')\n",
    "    ax.legend(loc=1)"
   ]
  },
  {
   "cell_type": "code",
   "execution_count": null,
   "metadata": {
    "collapsed": false
   },
   "outputs": [],
   "source": [
    "# Translation\n",
    "\n",
    "# Discrete Sum Cost Function\n",
    "t = []\n",
    "for i in np.arange(1,2,0.1):\n",
    "    t.append(np.array([0,0,i]))\n",
    "thetas = 0.0\n",
    "# without circular mask\n",
    "fig, ax = plt.subplots(1,3)\n",
    "fig.set_figwidth(20)\n",
    "fig.set_figheight(5)\n",
    "fig.suptitle(\"Without circular mask\")\n",
    "vol_cost_func_t(vol2, vol3, thetas, t, cf_ssd, 'SSD',ax[0])\n",
    "vol_cost_func_t(vol2, vol3, thetas, t, cf_L1, 'L1-norm',ax[1])\n",
    "vol_cost_func_t(vol2, vol3, thetas, t, cf_L2, 'L2-norm',ax[2])\n",
    "plt.show()\n",
    "plt.close(fig)"
   ]
  },
  {
   "cell_type": "markdown",
   "metadata": {},
   "source": [
    "Within Position 2, the pineapple was first rotated by 15 degrees (View 2) and then translated by 10mm(View 3)."
   ]
  },
  {
   "cell_type": "code",
   "execution_count": null,
   "metadata": {
    "collapsed": false
   },
   "outputs": [],
   "source": [
    "vol1 = np.memmap(path1+pos2[0], dtype=np.float32, shape=(32,32,32))\n",
    "vol1 = np.array(vol1)\n",
    "vol2 = np.memmap(path1+pos2[5], dtype=np.float32, shape=(32,32,32))\n",
    "vol2 = np.array(vol2)\n",
    "vol3 = np.memmap(path1+pos2[10], dtype=np.float32, shape=(32,32,32))\n",
    "vol3 = np.array(vol3)\n",
    "fig, ax = plt.subplots(3,3)\n",
    "fig.set_figwidth(10)\n",
    "fig.set_figheight(10)\n",
    "[ax[0][i].imshow(vol1.max(axis=i)) for i in xrange(3)]\n",
    "[ax[0][i].set_title('Position1 View1 Rep1') for i in xrange(3)]\n",
    "[ax[1][i].imshow(vol2.max(axis=i)) for i in xrange(3)]\n",
    "[ax[1][i].set_title('Position1 View2 Rep1') for i in xrange(3)]\n",
    "[ax[2][i].imshow(vol3.max(axis=i)) for i in xrange(3)]\n",
    "[ax[2][i].set_title('Position1 View3 Rep1') for i in xrange(3)]\n",
    "plt.show()\n",
    "plt.close(fig)"
   ]
  },
  {
   "cell_type": "code",
   "execution_count": null,
   "metadata": {
    "collapsed": false
   },
   "outputs": [],
   "source": [
    "# Rotation First\n",
    "\n",
    "# Discrete Sum Cost Function\n",
    "t = np.zeros([3,])\n",
    "thetas=np.arange(-25,10,0.2)\n",
    "# without circular mask\n",
    "fig, ax = plt.subplots(1,3)\n",
    "fig.set_figwidth(20)\n",
    "fig.set_figheight(5)\n",
    "fig.suptitle(\"Without circular mask\")\n",
    "vol_cost_func(vol1, vol2, thetas, t, cf_ssd, 'SSD',ax[0])\n",
    "vol_cost_func(vol1, vol2, thetas, t, cf_L1, 'L1-norm',ax[1])\n",
    "vol_cost_func(vol1, vol2, thetas, t, cf_L2, 'L2-norm',ax[2])\n",
    "plt.show()\n",
    "plt.close(fig)"
   ]
  },
  {
   "cell_type": "markdown",
   "metadata": {},
   "source": [
    "<span style=\"color:red\">\n",
    "As the rotation gets larger, the we are getting more accurate results on detection of rotation.\n",
    "</span>"
   ]
  },
  {
   "cell_type": "code",
   "execution_count": null,
   "metadata": {
    "collapsed": false
   },
   "outputs": [],
   "source": [
    "# Integral Cost function with Halton Sampling\n",
    "t = np.zeros([3,])\n",
    "thetas=np.arange(-20,-10,0.1)\n",
    "# without circular mask\n",
    "halton_cost_func(100, vol1, vol2, thetas, t, cf_ssd, 'SSD')\n",
    "halton_cost_func(500, vol1, vol2, thetas, t, cf_ssd, 'SSD')\n",
    "halton_cost_func(1000, vol1, vol2, thetas, t, cf_ssd, 'SSD')\n",
    "halton_cost_func(10000, vol1, vol2, thetas, t, cf_ssd, 'SSD')\n",
    "halton_cost_func(50000, vol1, vol2, thetas, t, cf_ssd, 'SSD')"
   ]
  },
  {
   "cell_type": "code",
   "execution_count": null,
   "metadata": {
    "collapsed": false
   },
   "outputs": [],
   "source": [
    "vol1 = np.memmap(path1+files1[0], dtype=np.float32, shape=(32,32,32))\n",
    "vol2 = np.memmap(path1+files1[1], dtype=np.float32, shape=(32,32,32))\n",
    "vol3 = np.memmap(path1+files1[2], dtype=np.float32, shape=(32,32,32))\n",
    "vol4 = np.memmap(path1+files1[3], dtype=np.float32, shape=(32,32,32))\n",
    "vol5 = np.memmap(path1+files1[4], dtype=np.float32, shape=(32,32,32))\n",
    "fig, ax = plt.subplots(5,3)\n",
    "fig.set_figwidth(10)\n",
    "fig.set_figheight(15)\n",
    "[ax[0][i].imshow(vol1.max(axis=i)) for i in xrange(3)]\n",
    "[ax[0][i].set_title('Position1 View1 Rep 1') for i in xrange(3)]\n",
    "[ax[1][i].imshow(vol2.max(axis=i)) for i in xrange(3)]\n",
    "[ax[1][i].set_title('Position1 View1 Rep 2') for i in xrange(3)]\n",
    "[ax[2][i].imshow(vol3.max(axis=i)) for i in xrange(3)]\n",
    "[ax[2][i].set_title('Position1 View1 Rep 3') for i in xrange(3)]\n",
    "[ax[3][i].imshow(vol4.max(axis=i)) for i in xrange(3)]\n",
    "[ax[3][i].set_title('Position1 View1 Rep 4') for i in xrange(3)]\n",
    "[ax[4][i].imshow(vol5.max(axis=i)) for i in xrange(3)]\n",
    "[ax[4][i].set_title('Position1 View1 Rep 5') for i in xrange(3)]\n",
    "plt.show()\n",
    "plt.close(fig)"
   ]
  },
  {
   "cell_type": "code",
   "execution_count": null,
   "metadata": {
    "collapsed": false
   },
   "outputs": [],
   "source": []
  },
  {
   "cell_type": "code",
   "execution_count": null,
   "metadata": {
    "collapsed": false
   },
   "outputs": [],
   "source": []
  },
  {
   "cell_type": "code",
   "execution_count": null,
   "metadata": {
    "collapsed": false
   },
   "outputs": [],
   "source": []
  }
 ],
 "metadata": {
  "kernelspec": {
   "display_name": "Python 2",
   "language": "python",
   "name": "python2"
  },
  "language_info": {
   "codemirror_mode": {
    "name": "ipython",
    "version": 2
   },
   "file_extension": ".py",
   "mimetype": "text/x-python",
   "name": "python",
   "nbconvert_exporter": "python",
   "pygments_lexer": "ipython2",
   "version": "2.7.9"
  }
 },
 "nbformat": 4,
 "nbformat_minor": 0
}
