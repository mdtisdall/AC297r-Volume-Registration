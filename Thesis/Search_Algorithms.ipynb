{
 "cells": [
  {
   "cell_type": "code",
   "execution_count": 1,
   "metadata": {
    "collapsed": true
   },
   "outputs": [],
   "source": [
    "%load_ext autoreload\n",
    "%autoreload 2\n",
    "%reload_ext autoreload"
   ]
  },
  {
   "cell_type": "code",
   "execution_count": 2,
   "metadata": {
    "collapsed": true
   },
   "outputs": [],
   "source": [
    "%matplotlib inline\n",
    "import matplotlib.pyplot as plt\n",
    "import cPickle as pickle\n",
    "import scipy.special\n",
    "import ghalton\n",
    "import numpy as np\n",
    "import time\n",
    "import os\n",
    "import sys\n",
    "sys.path.insert(1,'/Users/zyzdiana/GitHub/AC297r-Volume-Registration/code')"
   ]
  },
  {
   "cell_type": "code",
   "execution_count": 3,
   "metadata": {
    "collapsed": true
   },
   "outputs": [],
   "source": [
    "# load data\n",
    "data_dict = pickle.load(open('data_dict.p','rb'))"
   ]
  },
  {
   "cell_type": "code",
   "execution_count": 4,
   "metadata": {
    "collapsed": true
   },
   "outputs": [],
   "source": [
    "# define golden ratio\n",
    "gr = (np.sqrt(5)-1)/2\n",
    "def golden_section_search(func, a, b , tol=1e-5, *args):\n",
    "    t0 = time.time()\n",
    "    '''\n",
    "    Finds the minimum of function on [a,b]\n",
    "    tol: specifies stopping criteria\n",
    "    *args: handles the rest of the input arguments for func\n",
    "    '''\n",
    "    # calculate a new interval from golden ratio\n",
    "    c = b - gr * (b-a)\n",
    "    d = a + gr * (b-a)\n",
    "    # loop until finding the minimum\n",
    "    while abs(c-d) > tol:\n",
    "        print c,d\n",
    "        fc = func(c,*args)\n",
    "        fd = func(d,*args)\n",
    "        if fc < fd:\n",
    "            b = d\n",
    "            d = c  #fd=fc;fc=f(c)\n",
    "            c = b - gr*(b-a)\n",
    "        else:\n",
    "            a = c\n",
    "            c = d  #fc=fd;fd=f(d)\n",
    "            d = a + gr*(b-a)\n",
    "    print 'time: ', time.time()-t0\n",
    "    return (b+a)/2"
   ]
  },
  {
   "cell_type": "code",
   "execution_count": 5,
   "metadata": {
    "collapsed": true
   },
   "outputs": [],
   "source": [
    "# Bessel Rotation\n",
    "def to_radian(theta):\n",
    "    return theta*np.pi/180.\n",
    "\n",
    "def circle_mask(image):\n",
    "    ox = image.shape[1]/2.-0.5\n",
    "    oy = image.shape[0]/2.-0.5\n",
    "    r = image.shape[0]/2.-0.5\n",
    "    y, x = np.ogrid[-ox:image.shape[0]-ox, -oy:image.shape[0]-oy]\n",
    "    mask = x*x + y*y <= r*r\n",
    "    image[~mask] = 0\n",
    "    return image\n",
    "\n",
    "def cf_ssd(J, I):\n",
    "    return np.sum((J-I)**2)\n",
    "\n",
    "def bessel_rotate(image, theta, mask = False, r = 8):\n",
    "    Ib = np.zeros(image.shape)\n",
    "    theta = to_radian(theta)\n",
    "    s = (image.shape[0]-1)/2.\n",
    "\n",
    "    x = np.linspace(-s, s, image.shape[1])\n",
    "    y = np.linspace(-s, s, image.shape[0])\n",
    "    \n",
    "    xx, yy = np.meshgrid(x,y)\n",
    "    \n",
    "    rM = np.array([[np.cos(theta), -np.sin(theta)],[np.sin(theta), np.cos(theta)]])\n",
    "\n",
    "    for i in np.arange(-s,s+1):\n",
    "        for j in np.arange(-s,s+1):\n",
    "            x = np.dot(rM, np.array([i,j]))\n",
    "\n",
    "            if(np.sum(abs(x)>s)):\n",
    "                Ib[i+s,j+s]=0\n",
    "                \n",
    "            else:\n",
    "                R = np.sqrt((xx-x[1])**2 + (yy-x[0])**2)\n",
    "                mask_R = (R == 0)\n",
    "                mask_R_le = (R <= r) & (R > 0)\n",
    "                Bess = np.zeros(R.shape)\n",
    "                Bess[mask_R_le] = scipy.special.j1(np.pi*R[mask_R_le])/(np.pi*R[mask_R_le]) #*np.hanning(R)\n",
    "                Bess[mask_R] = 0.5\n",
    "                tmp = image*Bess\n",
    "                Ib[i+s,j+s] = np.sum(tmp)*np.pi/2\n",
    "    if(mask):\n",
    "        Ib = circle_mask(Ib)\n",
    "    return Ib\n",
    "  \n",
    "\n",
    "def bessel_rotate_halton(image, theta, x1, y1):\n",
    "    Ib = []\n",
    "    theta = to_radian(theta)\n",
    "    s = (image.shape[0]-1)/2.\n",
    "    \n",
    "    rM = np.array([[np.cos(theta), -np.sin(theta)],[np.sin(theta), np.cos(theta)]])\n",
    "    x = []\n",
    "    for i in np.arange(-s,s+1):\n",
    "        for j in np.arange(-s,s+1):\n",
    "            x.append(np.dot(rM, np.array([i,j])))\n",
    "    x = np.array(x)\n",
    "    for idx in xrange(len(x1)):\n",
    "        R = np.sqrt((x[:,1]-x1[idx])**2 + (x[:,0]-y1[idx])**2)\n",
    "        mask_R = (R == 0)\n",
    "        Bess = np.zeros(R.shape)\n",
    "        Bess[~mask_R] = scipy.special.j1(np.pi*R[~mask_R])/(np.pi*R[~mask_R])\n",
    "        Bess[mask_R] = 0.5\n",
    "        #Bess = Bess/(2*np.pi*np.sum(Bess*R))\n",
    "        tmp = image.ravel()*Bess\n",
    "        Ib.append(np.sum(tmp)*np.pi/2)\n",
    "    return np.array(Ib)\n",
    "\n",
    "def bessel_halton_cost_func(vol1, vol2, N, thetas, axis):\n",
    "    '''\n",
    "    vol1: original image\n",
    "    vol2: volume to be rotated\n",
    "    thetas: list of degress to try\n",
    "    cf: cost function\n",
    "    arg: string for plot titles\n",
    "    '''\n",
    "    cost_func = np.zeros([len(thetas),])\n",
    "    # generate Halton sample points\n",
    "    s = (len(vol1)-1)/2.\n",
    "    sequencer = ghalton.GeneralizedHalton(ghalton.EA_PERMS[:3])\n",
    "    sequencer.reset()\n",
    "    points = sequencer.get(N)\n",
    "    pts = np.array(points)\n",
    "    x1 = (len(vol1)-1) * pts[:,0] - s\n",
    "    y1 = (len(vol1)-1) * pts[:,1] - s\n",
    "    new_vol1 = np.zeros([len(vol1),N])\n",
    "    for i in xrange(len(vol1)):\n",
    "        if(axis == 0):\n",
    "            sub1 = circle_mask(vol1[i,:,:])\n",
    "        elif(axis == 1):\n",
    "            sub1 = circle_mask(vol1[:,i,:])\n",
    "        else:\n",
    "            sub1 = circle_mask(vol1[:,:,i])\n",
    "        rot = bessel_rotate_halton(sub1, 0, x1, y1)\n",
    "        new_vol1[i] = rot\n",
    "    for idx, t in enumerate(thetas):\n",
    "        print t, \n",
    "        new_vol2 = np.empty([len(vol2),N])\n",
    "        for i in xrange(len(vol2)):\n",
    "            if(axis==0):\n",
    "                sub2 = circle_mask(vol2[i,:,:])\n",
    "            elif(axis==1):\n",
    "                sub2 = circle_mask(vol2[:,i,:])\n",
    "            else:\n",
    "                sub2 = circle_mask(vol2[:,:,i])\n",
    "            rot = bessel_rotate_halton(sub2, t, x1, y1)\n",
    "            new_vol2[i] = rot\n",
    "        cost_func[idx] = cf_ssd(new_vol2,new_vol1)\n",
    "    return cost_func\n",
    "\n",
    "def bessel_cost(theta, vol1, vol2, axis, mask=True):\n",
    "    '''\n",
    "    vol1: original image\n",
    "    vol2: volume to be rotated\n",
    "    theta: angle of rotation\n",
    "    axis: axis of rotation\n",
    "    cf: cost function\n",
    "    '''\n",
    "\n",
    "    new_vol2 = np.ones(vol2.shape)\n",
    "    for i in xrange(len(vol2)):\n",
    "        if(axis == 0):\n",
    "            sub = vol2[i,:,:]\n",
    "            if(mask):\n",
    "                vol1[i,:,:] = circle_mask(vol1[i,:,:])\n",
    "        elif(axis == 1):\n",
    "            sub = vol2[:,i,:]\n",
    "            if(mask):\n",
    "                vol1[:,i,:] = circle_mask(vol1[:,i,:])\n",
    "        else:\n",
    "            sub = vol2[:,:,i]\n",
    "            if(mask):\n",
    "                vol1[:,:,i] = circle_mask(vol1[:,:,i])\n",
    "\n",
    "        rot = bessel_rotate(sub, theta, mask)\n",
    "\n",
    "        if(axis == 0):\n",
    "            new_vol2[i,:,:] = rot\n",
    "        elif(axis == 1):\n",
    "            new_vol2[:,i,:] = rot\n",
    "        else:\n",
    "            new_vol2[:,:,i] = rot\n",
    "            \n",
    "    return cf_ssd(new_vol2,vol1)\n",
    "\n",
    "def bessel_halton_cost_func_circle(vol1, vol2, N, thetas, axis):\n",
    "    '''\n",
    "    vol1: original image\n",
    "    vol2: volume to be rotated\n",
    "    thetas: list of degress to try\n",
    "    cf: cost function\n",
    "    arg: string for plot titles\n",
    "    '''\n",
    "    cost_func = np.zeros([len(thetas),])\n",
    "    # generate Halton sample points\n",
    "    s = (len(vol1)-1)/2.\n",
    "    sequencer = ghalton.GeneralizedHalton(ghalton.EA_PERMS[:3])\n",
    "    sequencer.reset()\n",
    "    points = sequencer.get(N)\n",
    "    pts = np.array(points)\n",
    "    xx1 = (len(vol1)-1) * pts[:,0] - s\n",
    "    yy1 = (len(vol1)-1) * pts[:,1] - s\n",
    "    mask = np.sqrt(xx1**2+yy1**2) < s - 1\n",
    "    x1 = xx1[mask]\n",
    "    y1 = yy1[mask]\n",
    "    new_vol1 = np.zeros([len(vol1),len(x1)])\n",
    "    print len(x1),\n",
    "    for i in xrange(len(vol1)):\n",
    "        if(axis == 0):\n",
    "            sub1 = circle_mask(vol1[i,:,:])\n",
    "        elif(axis == 1):\n",
    "            sub1 = circle_mask(vol1[:,i,:])\n",
    "        else:\n",
    "            sub1 = circle_mask(vol1[:,:,i])\n",
    "        rot = bessel_rotate_halton(sub1, 0, x1, y1)\n",
    "        new_vol1[i] = rot\n",
    "    for idx, t in enumerate(thetas):\n",
    "        print t, \n",
    "        new_vol2 = np.empty([len(vol2),len(x1)])\n",
    "        for i in xrange(len(vol2)):\n",
    "            if(axis==0):\n",
    "                sub2 = circle_mask(vol2[i,:,:])\n",
    "            elif(axis==1):\n",
    "                sub2 = circle_mask(vol2[:,i,:])\n",
    "            else:\n",
    "                sub2 = circle_mask(vol2[:,:,i])\n",
    "            rot = bessel_rotate_halton(sub2, t, x1, y1)\n",
    "            new_vol2[i] = rot\n",
    "        cost_func[idx] = cf_ssd(new_vol2,new_vol1)\n",
    "    return cost_func"
   ]
  },
  {
   "cell_type": "code",
   "execution_count": 6,
   "metadata": {
    "collapsed": true
   },
   "outputs": [],
   "source": [
    "# get some test data\n",
    "# head coil\n",
    "head_iso_5mm = data_dict['5mm']['head']['iso'][0]\n",
    "head_5deg_LR_5mm = data_dict['5mm']['head']['LR']['5deg'][0]\n",
    "head_5deg_AP_5mm = data_dict['5mm']['head']['AP']['5deg'][0]\n",
    "# body coil\n",
    "body_iso_5mm = data_dict['5mm']['body']['iso'][0]\n",
    "body_5deg_LR_5mm = data_dict['5mm']['body']['LR']['5deg'][0]\n",
    "body_5deg_AP_5mm = data_dict['5mm']['body']['AP']['5deg'][0]"
   ]
  },
  {
   "cell_type": "code",
   "execution_count": 8,
   "metadata": {
    "collapsed": false
   },
   "outputs": [
    {
     "name": "stdout",
     "output_type": "stream",
     "text": [
      "-2.360679775 2.360679775\n",
      "2.360679775 5.27864045\n",
      "5.27864045 7.08203932499\n",
      "4.16407864999 5.27864045\n",
      "5.27864045 5.96747752498\n",
      "4.85291572496 5.27864045\n",
      "4.58980337503 4.85291572496\n",
      "4.85291572496 5.01552810008\n",
      "4.75241575015 4.85291572496\n",
      "4.69030334984 4.75241575015\n",
      "4.65191577533 4.69030334984\n",
      "4.69030334984 4.71402817564\n",
      "4.67564060113 4.69030334984\n",
      "time:  374.570827007\n"
     ]
    },
    {
     "data": {
      "text/plain": [
       "4.6948343883822243"
      ]
     },
     "execution_count": 8,
     "metadata": {},
     "output_type": "execute_result"
    }
   ],
   "source": [
    "golden_section_search(bessel_cost, -10,10, 1e-2, head_iso_5mm, head_5deg_LR_5mm,0)"
   ]
  },
  {
   "cell_type": "code",
   "execution_count": 10,
   "metadata": {
    "collapsed": false
   },
   "outputs": [
    {
     "name": "stdout",
     "output_type": "stream",
     "text": [
      "4.76737620788 4.93262379212\n",
      "4.66524758425 4.76737620788\n",
      "4.76737620788 4.8304951685\n",
      "4.72836654487 4.76737620788\n",
      "4.70425724725 4.72836654487\n",
      "4.72836654487 4.74326691025\n",
      "time:  173.609818935\n"
     ]
    },
    {
     "data": {
      "text/plain": [
       "4.7478713763747793"
      ]
     },
     "execution_count": 10,
     "metadata": {},
     "output_type": "execute_result"
    }
   ],
   "source": [
    "golden_section_search(bessel_cost, 4.5,5.2, 1e-2, head_iso_5mm, head_5deg_LR_5mm,0)"
   ]
  },
  {
   "cell_type": "code",
   "execution_count": null,
   "metadata": {
    "collapsed": true
   },
   "outputs": [],
   "source": []
  }
 ],
 "metadata": {
  "kernelspec": {
   "display_name": "Python 2",
   "language": "python",
   "name": "python2"
  },
  "language_info": {
   "codemirror_mode": {
    "name": "ipython",
    "version": 2
   },
   "file_extension": ".py",
   "mimetype": "text/x-python",
   "name": "python",
   "nbconvert_exporter": "python",
   "pygments_lexer": "ipython2",
   "version": "2.7.9"
  }
 },
 "nbformat": 4,
 "nbformat_minor": 0
}
